{
 "cells": [
  {
   "cell_type": "code",
   "execution_count": 1,
   "metadata": {},
   "outputs": [],
   "source": [
    "import pandas as pd\n",
    "import matplotlib.pyplot as plt\n",
    "import seaborn as sns\n",
    "import numpy as np"
   ]
  },
  {
   "cell_type": "code",
   "execution_count": 2,
   "metadata": {},
   "outputs": [],
   "source": [
    "# загрузка данных\n",
    "data = pd.read_parquet(\"data/train_ver2.parquet\")"
   ]
  },
  {
   "cell_type": "markdown",
   "metadata": {},
   "source": [
    "#### Изучение структуры датасета и проверка пропусков"
   ]
  },
  {
   "cell_type": "code",
   "execution_count": 3,
   "metadata": {},
   "outputs": [
    {
     "data": {
      "text/html": [
       "<div>\n",
       "<style scoped>\n",
       "    .dataframe tbody tr th:only-of-type {\n",
       "        vertical-align: middle;\n",
       "    }\n",
       "\n",
       "    .dataframe tbody tr th {\n",
       "        vertical-align: top;\n",
       "    }\n",
       "\n",
       "    .dataframe thead th {\n",
       "        text-align: right;\n",
       "    }\n",
       "</style>\n",
       "<table border=\"1\" class=\"dataframe\">\n",
       "  <thead>\n",
       "    <tr style=\"text-align: right;\">\n",
       "      <th></th>\n",
       "      <th>fecha_dato</th>\n",
       "      <th>ncodpers</th>\n",
       "      <th>ind_empleado</th>\n",
       "      <th>pais_residencia</th>\n",
       "      <th>sexo</th>\n",
       "      <th>age</th>\n",
       "      <th>fecha_alta</th>\n",
       "      <th>ind_nuevo</th>\n",
       "      <th>antiguedad</th>\n",
       "      <th>indrel</th>\n",
       "      <th>...</th>\n",
       "      <th>ind_hip_fin_ult1</th>\n",
       "      <th>ind_plan_fin_ult1</th>\n",
       "      <th>ind_pres_fin_ult1</th>\n",
       "      <th>ind_reca_fin_ult1</th>\n",
       "      <th>ind_tjcr_fin_ult1</th>\n",
       "      <th>ind_valo_fin_ult1</th>\n",
       "      <th>ind_viv_fin_ult1</th>\n",
       "      <th>ind_nomina_ult1</th>\n",
       "      <th>ind_nom_pens_ult1</th>\n",
       "      <th>ind_recibo_ult1</th>\n",
       "    </tr>\n",
       "  </thead>\n",
       "  <tbody>\n",
       "    <tr>\n",
       "      <th>0</th>\n",
       "      <td>2015-01-28</td>\n",
       "      <td>1375586</td>\n",
       "      <td>N</td>\n",
       "      <td>ES</td>\n",
       "      <td>H</td>\n",
       "      <td>35</td>\n",
       "      <td>2015-01-12</td>\n",
       "      <td>0.0</td>\n",
       "      <td>6</td>\n",
       "      <td>1.0</td>\n",
       "      <td>...</td>\n",
       "      <td>0</td>\n",
       "      <td>0</td>\n",
       "      <td>0</td>\n",
       "      <td>0</td>\n",
       "      <td>0</td>\n",
       "      <td>0</td>\n",
       "      <td>0</td>\n",
       "      <td>0.0</td>\n",
       "      <td>0.0</td>\n",
       "      <td>0</td>\n",
       "    </tr>\n",
       "    <tr>\n",
       "      <th>1</th>\n",
       "      <td>2015-01-28</td>\n",
       "      <td>1050611</td>\n",
       "      <td>N</td>\n",
       "      <td>ES</td>\n",
       "      <td>V</td>\n",
       "      <td>23</td>\n",
       "      <td>2012-08-10</td>\n",
       "      <td>0.0</td>\n",
       "      <td>35</td>\n",
       "      <td>1.0</td>\n",
       "      <td>...</td>\n",
       "      <td>0</td>\n",
       "      <td>0</td>\n",
       "      <td>0</td>\n",
       "      <td>0</td>\n",
       "      <td>0</td>\n",
       "      <td>0</td>\n",
       "      <td>0</td>\n",
       "      <td>0.0</td>\n",
       "      <td>0.0</td>\n",
       "      <td>0</td>\n",
       "    </tr>\n",
       "    <tr>\n",
       "      <th>2</th>\n",
       "      <td>2015-01-28</td>\n",
       "      <td>1050612</td>\n",
       "      <td>N</td>\n",
       "      <td>ES</td>\n",
       "      <td>V</td>\n",
       "      <td>23</td>\n",
       "      <td>2012-08-10</td>\n",
       "      <td>0.0</td>\n",
       "      <td>35</td>\n",
       "      <td>1.0</td>\n",
       "      <td>...</td>\n",
       "      <td>0</td>\n",
       "      <td>0</td>\n",
       "      <td>0</td>\n",
       "      <td>0</td>\n",
       "      <td>0</td>\n",
       "      <td>0</td>\n",
       "      <td>0</td>\n",
       "      <td>0.0</td>\n",
       "      <td>0.0</td>\n",
       "      <td>0</td>\n",
       "    </tr>\n",
       "    <tr>\n",
       "      <th>3</th>\n",
       "      <td>2015-01-28</td>\n",
       "      <td>1050613</td>\n",
       "      <td>N</td>\n",
       "      <td>ES</td>\n",
       "      <td>H</td>\n",
       "      <td>22</td>\n",
       "      <td>2012-08-10</td>\n",
       "      <td>0.0</td>\n",
       "      <td>35</td>\n",
       "      <td>1.0</td>\n",
       "      <td>...</td>\n",
       "      <td>0</td>\n",
       "      <td>0</td>\n",
       "      <td>0</td>\n",
       "      <td>0</td>\n",
       "      <td>0</td>\n",
       "      <td>0</td>\n",
       "      <td>0</td>\n",
       "      <td>0.0</td>\n",
       "      <td>0.0</td>\n",
       "      <td>0</td>\n",
       "    </tr>\n",
       "    <tr>\n",
       "      <th>4</th>\n",
       "      <td>2015-01-28</td>\n",
       "      <td>1050614</td>\n",
       "      <td>N</td>\n",
       "      <td>ES</td>\n",
       "      <td>V</td>\n",
       "      <td>23</td>\n",
       "      <td>2012-08-10</td>\n",
       "      <td>0.0</td>\n",
       "      <td>35</td>\n",
       "      <td>1.0</td>\n",
       "      <td>...</td>\n",
       "      <td>0</td>\n",
       "      <td>0</td>\n",
       "      <td>0</td>\n",
       "      <td>0</td>\n",
       "      <td>0</td>\n",
       "      <td>0</td>\n",
       "      <td>0</td>\n",
       "      <td>0.0</td>\n",
       "      <td>0.0</td>\n",
       "      <td>0</td>\n",
       "    </tr>\n",
       "    <tr>\n",
       "      <th>5</th>\n",
       "      <td>2015-01-28</td>\n",
       "      <td>1050615</td>\n",
       "      <td>N</td>\n",
       "      <td>ES</td>\n",
       "      <td>H</td>\n",
       "      <td>23</td>\n",
       "      <td>2012-08-10</td>\n",
       "      <td>0.0</td>\n",
       "      <td>35</td>\n",
       "      <td>1.0</td>\n",
       "      <td>...</td>\n",
       "      <td>0</td>\n",
       "      <td>0</td>\n",
       "      <td>0</td>\n",
       "      <td>0</td>\n",
       "      <td>0</td>\n",
       "      <td>0</td>\n",
       "      <td>0</td>\n",
       "      <td>0.0</td>\n",
       "      <td>0.0</td>\n",
       "      <td>0</td>\n",
       "    </tr>\n",
       "    <tr>\n",
       "      <th>6</th>\n",
       "      <td>2015-01-28</td>\n",
       "      <td>1050616</td>\n",
       "      <td>N</td>\n",
       "      <td>ES</td>\n",
       "      <td>H</td>\n",
       "      <td>23</td>\n",
       "      <td>2012-08-10</td>\n",
       "      <td>0.0</td>\n",
       "      <td>35</td>\n",
       "      <td>1.0</td>\n",
       "      <td>...</td>\n",
       "      <td>0</td>\n",
       "      <td>0</td>\n",
       "      <td>0</td>\n",
       "      <td>0</td>\n",
       "      <td>0</td>\n",
       "      <td>0</td>\n",
       "      <td>0</td>\n",
       "      <td>0.0</td>\n",
       "      <td>0.0</td>\n",
       "      <td>0</td>\n",
       "    </tr>\n",
       "    <tr>\n",
       "      <th>7</th>\n",
       "      <td>2015-01-28</td>\n",
       "      <td>1050617</td>\n",
       "      <td>N</td>\n",
       "      <td>ES</td>\n",
       "      <td>H</td>\n",
       "      <td>23</td>\n",
       "      <td>2012-08-10</td>\n",
       "      <td>0.0</td>\n",
       "      <td>35</td>\n",
       "      <td>1.0</td>\n",
       "      <td>...</td>\n",
       "      <td>0</td>\n",
       "      <td>0</td>\n",
       "      <td>0</td>\n",
       "      <td>0</td>\n",
       "      <td>0</td>\n",
       "      <td>0</td>\n",
       "      <td>0</td>\n",
       "      <td>0.0</td>\n",
       "      <td>0.0</td>\n",
       "      <td>0</td>\n",
       "    </tr>\n",
       "    <tr>\n",
       "      <th>8</th>\n",
       "      <td>2015-01-28</td>\n",
       "      <td>1050619</td>\n",
       "      <td>N</td>\n",
       "      <td>ES</td>\n",
       "      <td>H</td>\n",
       "      <td>24</td>\n",
       "      <td>2012-08-10</td>\n",
       "      <td>0.0</td>\n",
       "      <td>35</td>\n",
       "      <td>1.0</td>\n",
       "      <td>...</td>\n",
       "      <td>0</td>\n",
       "      <td>0</td>\n",
       "      <td>0</td>\n",
       "      <td>0</td>\n",
       "      <td>0</td>\n",
       "      <td>0</td>\n",
       "      <td>0</td>\n",
       "      <td>0.0</td>\n",
       "      <td>0.0</td>\n",
       "      <td>0</td>\n",
       "    </tr>\n",
       "    <tr>\n",
       "      <th>9</th>\n",
       "      <td>2015-01-28</td>\n",
       "      <td>1050620</td>\n",
       "      <td>N</td>\n",
       "      <td>ES</td>\n",
       "      <td>H</td>\n",
       "      <td>23</td>\n",
       "      <td>2012-08-10</td>\n",
       "      <td>0.0</td>\n",
       "      <td>35</td>\n",
       "      <td>1.0</td>\n",
       "      <td>...</td>\n",
       "      <td>0</td>\n",
       "      <td>0</td>\n",
       "      <td>0</td>\n",
       "      <td>0</td>\n",
       "      <td>0</td>\n",
       "      <td>0</td>\n",
       "      <td>0</td>\n",
       "      <td>0.0</td>\n",
       "      <td>0.0</td>\n",
       "      <td>0</td>\n",
       "    </tr>\n",
       "  </tbody>\n",
       "</table>\n",
       "<p>10 rows × 48 columns</p>\n",
       "</div>"
      ],
      "text/plain": [
       "   fecha_dato  ncodpers ind_empleado pais_residencia sexo  age  fecha_alta   \n",
       "0  2015-01-28   1375586            N              ES    H   35  2015-01-12  \\\n",
       "1  2015-01-28   1050611            N              ES    V   23  2012-08-10   \n",
       "2  2015-01-28   1050612            N              ES    V   23  2012-08-10   \n",
       "3  2015-01-28   1050613            N              ES    H   22  2012-08-10   \n",
       "4  2015-01-28   1050614            N              ES    V   23  2012-08-10   \n",
       "5  2015-01-28   1050615            N              ES    H   23  2012-08-10   \n",
       "6  2015-01-28   1050616            N              ES    H   23  2012-08-10   \n",
       "7  2015-01-28   1050617            N              ES    H   23  2012-08-10   \n",
       "8  2015-01-28   1050619            N              ES    H   24  2012-08-10   \n",
       "9  2015-01-28   1050620            N              ES    H   23  2012-08-10   \n",
       "\n",
       "   ind_nuevo antiguedad  indrel  ... ind_hip_fin_ult1 ind_plan_fin_ult1   \n",
       "0        0.0          6     1.0  ...                0                 0  \\\n",
       "1        0.0         35     1.0  ...                0                 0   \n",
       "2        0.0         35     1.0  ...                0                 0   \n",
       "3        0.0         35     1.0  ...                0                 0   \n",
       "4        0.0         35     1.0  ...                0                 0   \n",
       "5        0.0         35     1.0  ...                0                 0   \n",
       "6        0.0         35     1.0  ...                0                 0   \n",
       "7        0.0         35     1.0  ...                0                 0   \n",
       "8        0.0         35     1.0  ...                0                 0   \n",
       "9        0.0         35     1.0  ...                0                 0   \n",
       "\n",
       "  ind_pres_fin_ult1 ind_reca_fin_ult1 ind_tjcr_fin_ult1 ind_valo_fin_ult1   \n",
       "0                 0                 0                 0                 0  \\\n",
       "1                 0                 0                 0                 0   \n",
       "2                 0                 0                 0                 0   \n",
       "3                 0                 0                 0                 0   \n",
       "4                 0                 0                 0                 0   \n",
       "5                 0                 0                 0                 0   \n",
       "6                 0                 0                 0                 0   \n",
       "7                 0                 0                 0                 0   \n",
       "8                 0                 0                 0                 0   \n",
       "9                 0                 0                 0                 0   \n",
       "\n",
       "  ind_viv_fin_ult1 ind_nomina_ult1  ind_nom_pens_ult1  ind_recibo_ult1  \n",
       "0                0             0.0                0.0                0  \n",
       "1                0             0.0                0.0                0  \n",
       "2                0             0.0                0.0                0  \n",
       "3                0             0.0                0.0                0  \n",
       "4                0             0.0                0.0                0  \n",
       "5                0             0.0                0.0                0  \n",
       "6                0             0.0                0.0                0  \n",
       "7                0             0.0                0.0                0  \n",
       "8                0             0.0                0.0                0  \n",
       "9                0             0.0                0.0                0  \n",
       "\n",
       "[10 rows x 48 columns]"
      ]
     },
     "execution_count": 3,
     "metadata": {},
     "output_type": "execute_result"
    }
   ],
   "source": [
    "data.head(10)"
   ]
  },
  {
   "cell_type": "markdown",
   "metadata": {},
   "source": [
    "Названия столбцов скорее всего написаны на испанском языке"
   ]
  },
  {
   "cell_type": "code",
   "execution_count": 4,
   "metadata": {},
   "outputs": [
    {
     "data": {
      "text/plain": [
       "(13647309, 48)"
      ]
     },
     "execution_count": 4,
     "metadata": {},
     "output_type": "execute_result"
    }
   ],
   "source": [
    "# Размер датасета\n",
    "data.shape"
   ]
  },
  {
   "cell_type": "code",
   "execution_count": 5,
   "metadata": {},
   "outputs": [
    {
     "data": {
      "text/plain": [
       "fecha_dato                      0\n",
       "ncodpers                        0\n",
       "ind_empleado                27734\n",
       "pais_residencia             27734\n",
       "sexo                        27804\n",
       "age                             0\n",
       "fecha_alta                  27734\n",
       "ind_nuevo                   27734\n",
       "antiguedad                      0\n",
       "indrel                      27734\n",
       "ult_fec_cli_1t           13622516\n",
       "indrel_1mes                149781\n",
       "tiprel_1mes                149781\n",
       "indresi                     27734\n",
       "indext                      27734\n",
       "conyuemp                 13645501\n",
       "canal_entrada              186126\n",
       "indfall                     27734\n",
       "tipodom                     27735\n",
       "cod_prov                    93591\n",
       "nomprov                     93591\n",
       "ind_actividad_cliente       27734\n",
       "renta                     2794375\n",
       "segmento                   189368\n",
       "ind_ahor_fin_ult1               0\n",
       "ind_aval_fin_ult1               0\n",
       "ind_cco_fin_ult1                0\n",
       "ind_cder_fin_ult1               0\n",
       "ind_cno_fin_ult1                0\n",
       "ind_ctju_fin_ult1               0\n",
       "ind_ctma_fin_ult1               0\n",
       "ind_ctop_fin_ult1               0\n",
       "ind_ctpp_fin_ult1               0\n",
       "ind_deco_fin_ult1               0\n",
       "ind_deme_fin_ult1               0\n",
       "ind_dela_fin_ult1               0\n",
       "ind_ecue_fin_ult1               0\n",
       "ind_fond_fin_ult1               0\n",
       "ind_hip_fin_ult1                0\n",
       "ind_plan_fin_ult1               0\n",
       "ind_pres_fin_ult1               0\n",
       "ind_reca_fin_ult1               0\n",
       "ind_tjcr_fin_ult1               0\n",
       "ind_valo_fin_ult1               0\n",
       "ind_viv_fin_ult1                0\n",
       "ind_nomina_ult1             16063\n",
       "ind_nom_pens_ult1           16063\n",
       "ind_recibo_ult1                 0\n",
       "dtype: int64"
      ]
     },
     "execution_count": 5,
     "metadata": {},
     "output_type": "execute_result"
    }
   ],
   "source": [
    "# Количество пропусков столбцах датасета\n",
    "data.isna().sum()"
   ]
  },
  {
   "cell_type": "markdown",
   "metadata": {},
   "source": [
    "В данных много пропусков. В столбцах ult_fec_cli_1t(Последняя дата, когда клиент был премиальным) и conyuemp(1, если клиент супруг(а) работника) практически нет данных. В первом пропущенные значения означают отсутствие даты, можно было бы заполнить 0 пропуски, а даты заменить на 1, но эта информация есть в столбце indrel_1mes, значит можно удалить этот столбец. Со вторым столбцом нужно разобраться подробнее."
   ]
  },
  {
   "cell_type": "code",
   "execution_count": 6,
   "metadata": {},
   "outputs": [],
   "source": [
    "data.drop('ult_fec_cli_1t', axis=1, inplace=True)"
   ]
  },
  {
   "cell_type": "code",
   "execution_count": 7,
   "metadata": {},
   "outputs": [
    {
     "data": {
      "text/plain": [
       "conyuemp\n",
       "N    1791\n",
       "S      17\n",
       "Name: count, dtype: int64"
      ]
     },
     "execution_count": 7,
     "metadata": {},
     "output_type": "execute_result"
    }
   ],
   "source": [
    "data['conyuemp'].value_counts()"
   ]
  },
  {
   "cell_type": "markdown",
   "metadata": {},
   "source": [
    "N скорее всего испанское No, тогда S - Si. Если это так, то среди клиентов банка всего 17 супругов работников. Это слишком малая часть клиентов и от этих данных можно отказаться."
   ]
  },
  {
   "cell_type": "code",
   "execution_count": 8,
   "metadata": {},
   "outputs": [],
   "source": [
    "data.drop('conyuemp', axis=1, inplace=True)"
   ]
  },
  {
   "cell_type": "markdown",
   "metadata": {},
   "source": [
    "Далее рассмотрю какие данные находятся в осталных столбцах с пропусками."
   ]
  },
  {
   "cell_type": "markdown",
   "metadata": {},
   "source": [
    "Во многих столбцах, содержащих пропуски, пропущенно одно и то же количество значений, а именно 27734. Нужно проверить строки с этими пропусками."
   ]
  },
  {
   "cell_type": "code",
   "execution_count": 9,
   "metadata": {},
   "outputs": [
    {
     "data": {
      "text/html": [
       "<div>\n",
       "<style scoped>\n",
       "    .dataframe tbody tr th:only-of-type {\n",
       "        vertical-align: middle;\n",
       "    }\n",
       "\n",
       "    .dataframe tbody tr th {\n",
       "        vertical-align: top;\n",
       "    }\n",
       "\n",
       "    .dataframe thead th {\n",
       "        text-align: right;\n",
       "    }\n",
       "</style>\n",
       "<table border=\"1\" class=\"dataframe\">\n",
       "  <thead>\n",
       "    <tr style=\"text-align: right;\">\n",
       "      <th></th>\n",
       "      <th>fecha_dato</th>\n",
       "      <th>ncodpers</th>\n",
       "      <th>ind_empleado</th>\n",
       "      <th>pais_residencia</th>\n",
       "      <th>sexo</th>\n",
       "      <th>age</th>\n",
       "      <th>fecha_alta</th>\n",
       "      <th>ind_nuevo</th>\n",
       "      <th>antiguedad</th>\n",
       "      <th>indrel</th>\n",
       "      <th>...</th>\n",
       "      <th>ind_hip_fin_ult1</th>\n",
       "      <th>ind_plan_fin_ult1</th>\n",
       "      <th>ind_pres_fin_ult1</th>\n",
       "      <th>ind_reca_fin_ult1</th>\n",
       "      <th>ind_tjcr_fin_ult1</th>\n",
       "      <th>ind_valo_fin_ult1</th>\n",
       "      <th>ind_viv_fin_ult1</th>\n",
       "      <th>ind_nomina_ult1</th>\n",
       "      <th>ind_nom_pens_ult1</th>\n",
       "      <th>ind_recibo_ult1</th>\n",
       "    </tr>\n",
       "  </thead>\n",
       "  <tbody>\n",
       "    <tr>\n",
       "      <th>261</th>\n",
       "      <td>2015-01-28</td>\n",
       "      <td>1050741</td>\n",
       "      <td>None</td>\n",
       "      <td>None</td>\n",
       "      <td>None</td>\n",
       "      <td>NA</td>\n",
       "      <td>None</td>\n",
       "      <td>NaN</td>\n",
       "      <td>NA</td>\n",
       "      <td>NaN</td>\n",
       "      <td>...</td>\n",
       "      <td>0</td>\n",
       "      <td>0</td>\n",
       "      <td>0</td>\n",
       "      <td>0</td>\n",
       "      <td>0</td>\n",
       "      <td>0</td>\n",
       "      <td>0</td>\n",
       "      <td>0.0</td>\n",
       "      <td>0.0</td>\n",
       "      <td>0</td>\n",
       "    </tr>\n",
       "    <tr>\n",
       "      <th>1029</th>\n",
       "      <td>2015-01-28</td>\n",
       "      <td>1051017</td>\n",
       "      <td>None</td>\n",
       "      <td>None</td>\n",
       "      <td>None</td>\n",
       "      <td>NA</td>\n",
       "      <td>None</td>\n",
       "      <td>NaN</td>\n",
       "      <td>NA</td>\n",
       "      <td>NaN</td>\n",
       "      <td>...</td>\n",
       "      <td>0</td>\n",
       "      <td>0</td>\n",
       "      <td>0</td>\n",
       "      <td>0</td>\n",
       "      <td>0</td>\n",
       "      <td>0</td>\n",
       "      <td>0</td>\n",
       "      <td>0.0</td>\n",
       "      <td>0.0</td>\n",
       "      <td>0</td>\n",
       "    </tr>\n",
       "    <tr>\n",
       "      <th>1063</th>\n",
       "      <td>2015-01-28</td>\n",
       "      <td>1051064</td>\n",
       "      <td>None</td>\n",
       "      <td>None</td>\n",
       "      <td>None</td>\n",
       "      <td>NA</td>\n",
       "      <td>None</td>\n",
       "      <td>NaN</td>\n",
       "      <td>NA</td>\n",
       "      <td>NaN</td>\n",
       "      <td>...</td>\n",
       "      <td>0</td>\n",
       "      <td>0</td>\n",
       "      <td>0</td>\n",
       "      <td>0</td>\n",
       "      <td>0</td>\n",
       "      <td>0</td>\n",
       "      <td>0</td>\n",
       "      <td>0.0</td>\n",
       "      <td>0.0</td>\n",
       "      <td>0</td>\n",
       "    </tr>\n",
       "    <tr>\n",
       "      <th>1154</th>\n",
       "      <td>2015-01-28</td>\n",
       "      <td>1051387</td>\n",
       "      <td>None</td>\n",
       "      <td>None</td>\n",
       "      <td>None</td>\n",
       "      <td>NA</td>\n",
       "      <td>None</td>\n",
       "      <td>NaN</td>\n",
       "      <td>NA</td>\n",
       "      <td>NaN</td>\n",
       "      <td>...</td>\n",
       "      <td>0</td>\n",
       "      <td>0</td>\n",
       "      <td>0</td>\n",
       "      <td>0</td>\n",
       "      <td>0</td>\n",
       "      <td>0</td>\n",
       "      <td>0</td>\n",
       "      <td>0.0</td>\n",
       "      <td>0.0</td>\n",
       "      <td>0</td>\n",
       "    </tr>\n",
       "    <tr>\n",
       "      <th>1779</th>\n",
       "      <td>2015-01-28</td>\n",
       "      <td>1048660</td>\n",
       "      <td>None</td>\n",
       "      <td>None</td>\n",
       "      <td>None</td>\n",
       "      <td>NA</td>\n",
       "      <td>None</td>\n",
       "      <td>NaN</td>\n",
       "      <td>NA</td>\n",
       "      <td>NaN</td>\n",
       "      <td>...</td>\n",
       "      <td>0</td>\n",
       "      <td>0</td>\n",
       "      <td>0</td>\n",
       "      <td>0</td>\n",
       "      <td>0</td>\n",
       "      <td>0</td>\n",
       "      <td>0</td>\n",
       "      <td>0.0</td>\n",
       "      <td>0.0</td>\n",
       "      <td>0</td>\n",
       "    </tr>\n",
       "    <tr>\n",
       "      <th>...</th>\n",
       "      <td>...</td>\n",
       "      <td>...</td>\n",
       "      <td>...</td>\n",
       "      <td>...</td>\n",
       "      <td>...</td>\n",
       "      <td>...</td>\n",
       "      <td>...</td>\n",
       "      <td>...</td>\n",
       "      <td>...</td>\n",
       "      <td>...</td>\n",
       "      <td>...</td>\n",
       "      <td>...</td>\n",
       "      <td>...</td>\n",
       "      <td>...</td>\n",
       "      <td>...</td>\n",
       "      <td>...</td>\n",
       "      <td>...</td>\n",
       "      <td>...</td>\n",
       "      <td>...</td>\n",
       "      <td>...</td>\n",
       "      <td>...</td>\n",
       "    </tr>\n",
       "    <tr>\n",
       "      <th>3775976</th>\n",
       "      <td>2015-06-28</td>\n",
       "      <td>550081</td>\n",
       "      <td>None</td>\n",
       "      <td>None</td>\n",
       "      <td>None</td>\n",
       "      <td>NA</td>\n",
       "      <td>None</td>\n",
       "      <td>NaN</td>\n",
       "      <td>NA</td>\n",
       "      <td>NaN</td>\n",
       "      <td>...</td>\n",
       "      <td>0</td>\n",
       "      <td>0</td>\n",
       "      <td>0</td>\n",
       "      <td>1</td>\n",
       "      <td>0</td>\n",
       "      <td>0</td>\n",
       "      <td>0</td>\n",
       "      <td>NaN</td>\n",
       "      <td>NaN</td>\n",
       "      <td>0</td>\n",
       "    </tr>\n",
       "    <tr>\n",
       "      <th>3776175</th>\n",
       "      <td>2015-06-28</td>\n",
       "      <td>550693</td>\n",
       "      <td>None</td>\n",
       "      <td>None</td>\n",
       "      <td>None</td>\n",
       "      <td>NA</td>\n",
       "      <td>None</td>\n",
       "      <td>NaN</td>\n",
       "      <td>NA</td>\n",
       "      <td>NaN</td>\n",
       "      <td>...</td>\n",
       "      <td>0</td>\n",
       "      <td>0</td>\n",
       "      <td>0</td>\n",
       "      <td>1</td>\n",
       "      <td>0</td>\n",
       "      <td>0</td>\n",
       "      <td>0</td>\n",
       "      <td>NaN</td>\n",
       "      <td>NaN</td>\n",
       "      <td>0</td>\n",
       "    </tr>\n",
       "    <tr>\n",
       "      <th>3776230</th>\n",
       "      <td>2015-06-28</td>\n",
       "      <td>549518</td>\n",
       "      <td>None</td>\n",
       "      <td>None</td>\n",
       "      <td>None</td>\n",
       "      <td>NA</td>\n",
       "      <td>None</td>\n",
       "      <td>NaN</td>\n",
       "      <td>NA</td>\n",
       "      <td>NaN</td>\n",
       "      <td>...</td>\n",
       "      <td>0</td>\n",
       "      <td>0</td>\n",
       "      <td>0</td>\n",
       "      <td>1</td>\n",
       "      <td>0</td>\n",
       "      <td>0</td>\n",
       "      <td>0</td>\n",
       "      <td>NaN</td>\n",
       "      <td>NaN</td>\n",
       "      <td>0</td>\n",
       "    </tr>\n",
       "    <tr>\n",
       "      <th>3776279</th>\n",
       "      <td>2015-06-28</td>\n",
       "      <td>549207</td>\n",
       "      <td>None</td>\n",
       "      <td>None</td>\n",
       "      <td>None</td>\n",
       "      <td>NA</td>\n",
       "      <td>None</td>\n",
       "      <td>NaN</td>\n",
       "      <td>NA</td>\n",
       "      <td>NaN</td>\n",
       "      <td>...</td>\n",
       "      <td>0</td>\n",
       "      <td>0</td>\n",
       "      <td>0</td>\n",
       "      <td>1</td>\n",
       "      <td>0</td>\n",
       "      <td>0</td>\n",
       "      <td>0</td>\n",
       "      <td>NaN</td>\n",
       "      <td>NaN</td>\n",
       "      <td>0</td>\n",
       "    </tr>\n",
       "    <tr>\n",
       "      <th>3776332</th>\n",
       "      <td>2015-06-28</td>\n",
       "      <td>549255</td>\n",
       "      <td>None</td>\n",
       "      <td>None</td>\n",
       "      <td>None</td>\n",
       "      <td>NA</td>\n",
       "      <td>None</td>\n",
       "      <td>NaN</td>\n",
       "      <td>NA</td>\n",
       "      <td>NaN</td>\n",
       "      <td>...</td>\n",
       "      <td>0</td>\n",
       "      <td>0</td>\n",
       "      <td>0</td>\n",
       "      <td>1</td>\n",
       "      <td>0</td>\n",
       "      <td>0</td>\n",
       "      <td>0</td>\n",
       "      <td>NaN</td>\n",
       "      <td>NaN</td>\n",
       "      <td>0</td>\n",
       "    </tr>\n",
       "  </tbody>\n",
       "</table>\n",
       "<p>27734 rows × 46 columns</p>\n",
       "</div>"
      ],
      "text/plain": [
       "         fecha_dato  ncodpers ind_empleado pais_residencia  sexo  age   \n",
       "261      2015-01-28   1050741         None            None  None   NA  \\\n",
       "1029     2015-01-28   1051017         None            None  None   NA   \n",
       "1063     2015-01-28   1051064         None            None  None   NA   \n",
       "1154     2015-01-28   1051387         None            None  None   NA   \n",
       "1779     2015-01-28   1048660         None            None  None   NA   \n",
       "...             ...       ...          ...             ...   ...  ...   \n",
       "3775976  2015-06-28    550081         None            None  None   NA   \n",
       "3776175  2015-06-28    550693         None            None  None   NA   \n",
       "3776230  2015-06-28    549518         None            None  None   NA   \n",
       "3776279  2015-06-28    549207         None            None  None   NA   \n",
       "3776332  2015-06-28    549255         None            None  None   NA   \n",
       "\n",
       "        fecha_alta  ind_nuevo antiguedad  indrel  ... ind_hip_fin_ult1   \n",
       "261           None        NaN         NA     NaN  ...                0  \\\n",
       "1029          None        NaN         NA     NaN  ...                0   \n",
       "1063          None        NaN         NA     NaN  ...                0   \n",
       "1154          None        NaN         NA     NaN  ...                0   \n",
       "1779          None        NaN         NA     NaN  ...                0   \n",
       "...            ...        ...        ...     ...  ...              ...   \n",
       "3775976       None        NaN         NA     NaN  ...                0   \n",
       "3776175       None        NaN         NA     NaN  ...                0   \n",
       "3776230       None        NaN         NA     NaN  ...                0   \n",
       "3776279       None        NaN         NA     NaN  ...                0   \n",
       "3776332       None        NaN         NA     NaN  ...                0   \n",
       "\n",
       "        ind_plan_fin_ult1 ind_pres_fin_ult1 ind_reca_fin_ult1   \n",
       "261                     0                 0                 0  \\\n",
       "1029                    0                 0                 0   \n",
       "1063                    0                 0                 0   \n",
       "1154                    0                 0                 0   \n",
       "1779                    0                 0                 0   \n",
       "...                   ...               ...               ...   \n",
       "3775976                 0                 0                 1   \n",
       "3776175                 0                 0                 1   \n",
       "3776230                 0                 0                 1   \n",
       "3776279                 0                 0                 1   \n",
       "3776332                 0                 0                 1   \n",
       "\n",
       "        ind_tjcr_fin_ult1 ind_valo_fin_ult1  ind_viv_fin_ult1   \n",
       "261                     0                 0                 0  \\\n",
       "1029                    0                 0                 0   \n",
       "1063                    0                 0                 0   \n",
       "1154                    0                 0                 0   \n",
       "1779                    0                 0                 0   \n",
       "...                   ...               ...               ...   \n",
       "3775976                 0                 0                 0   \n",
       "3776175                 0                 0                 0   \n",
       "3776230                 0                 0                 0   \n",
       "3776279                 0                 0                 0   \n",
       "3776332                 0                 0                 0   \n",
       "\n",
       "         ind_nomina_ult1 ind_nom_pens_ult1  ind_recibo_ult1  \n",
       "261                  0.0               0.0                0  \n",
       "1029                 0.0               0.0                0  \n",
       "1063                 0.0               0.0                0  \n",
       "1154                 0.0               0.0                0  \n",
       "1779                 0.0               0.0                0  \n",
       "...                  ...               ...              ...  \n",
       "3775976              NaN               NaN                0  \n",
       "3776175              NaN               NaN                0  \n",
       "3776230              NaN               NaN                0  \n",
       "3776279              NaN               NaN                0  \n",
       "3776332              NaN               NaN                0  \n",
       "\n",
       "[27734 rows x 46 columns]"
      ]
     },
     "execution_count": 9,
     "metadata": {},
     "output_type": "execute_result"
    }
   ],
   "source": [
    "data[data['ind_empleado'].isna()]"
   ]
  },
  {
   "cell_type": "markdown",
   "metadata": {},
   "source": [
    "Все пропуски находятся а одних и тех же строках. Так как они не содержат ни какой информации и их количество невелико, то проще всего будет их удалить."
   ]
  },
  {
   "cell_type": "code",
   "execution_count": 10,
   "metadata": {},
   "outputs": [],
   "source": [
    "data = data[~data['ind_empleado'].isna()]"
   ]
  },
  {
   "cell_type": "code",
   "execution_count": 11,
   "metadata": {},
   "outputs": [
    {
     "data": {
      "text/plain": [
       "fecha_dato                     0\n",
       "ncodpers                       0\n",
       "ind_empleado                   0\n",
       "pais_residencia                0\n",
       "sexo                          70\n",
       "age                            0\n",
       "fecha_alta                     0\n",
       "ind_nuevo                      0\n",
       "antiguedad                     0\n",
       "indrel                         0\n",
       "indrel_1mes               122047\n",
       "tiprel_1mes               122047\n",
       "indresi                        0\n",
       "indext                         0\n",
       "canal_entrada             158392\n",
       "indfall                        0\n",
       "tipodom                        1\n",
       "cod_prov                   65857\n",
       "nomprov                    65857\n",
       "ind_actividad_cliente          0\n",
       "renta                    2766641\n",
       "segmento                  161634\n",
       "ind_ahor_fin_ult1              0\n",
       "ind_aval_fin_ult1              0\n",
       "ind_cco_fin_ult1               0\n",
       "ind_cder_fin_ult1              0\n",
       "ind_cno_fin_ult1               0\n",
       "ind_ctju_fin_ult1              0\n",
       "ind_ctma_fin_ult1              0\n",
       "ind_ctop_fin_ult1              0\n",
       "ind_ctpp_fin_ult1              0\n",
       "ind_deco_fin_ult1              0\n",
       "ind_deme_fin_ult1              0\n",
       "ind_dela_fin_ult1              0\n",
       "ind_ecue_fin_ult1              0\n",
       "ind_fond_fin_ult1              0\n",
       "ind_hip_fin_ult1               0\n",
       "ind_plan_fin_ult1              0\n",
       "ind_pres_fin_ult1              0\n",
       "ind_reca_fin_ult1              0\n",
       "ind_tjcr_fin_ult1              0\n",
       "ind_valo_fin_ult1              0\n",
       "ind_viv_fin_ult1               0\n",
       "ind_nomina_ult1              217\n",
       "ind_nom_pens_ult1            217\n",
       "ind_recibo_ult1                0\n",
       "dtype: int64"
      ]
     },
     "execution_count": 11,
     "metadata": {},
     "output_type": "execute_result"
    }
   ],
   "source": [
    "# Ещё раз проверю количество пропусков столбцах датасета\n",
    "data.isna().sum()"
   ]
  },
  {
   "cell_type": "markdown",
   "metadata": {},
   "source": [
    "Ожидаемо, удалось разом избавиться от большого количества столбцов с пропусками."
   ]
  },
  {
   "cell_type": "code",
   "execution_count": 12,
   "metadata": {},
   "outputs": [
    {
     "data": {
      "text/plain": [
       "ind_empleado\n",
       "N    13610977\n",
       "B        3566\n",
       "F        2523\n",
       "A        2492\n",
       "S          17\n",
       "Name: count, dtype: int64"
      ]
     },
     "execution_count": 12,
     "metadata": {},
     "output_type": "execute_result"
    }
   ],
   "source": [
    "# Статус занятости:\n",
    "# - A — трудоустроен\n",
    "# - B — безработный, раньше работал\n",
    "# - F — иждивенец\n",
    "# - N — безработный\n",
    "# - P — пассивный (статус не определён)\n",
    "data['ind_empleado'].value_counts()"
   ]
  },
  {
   "cell_type": "markdown",
   "metadata": {},
   "source": [
    "В столбце есть неизвестная категория S. Скорее всего это должно быть P (статус не определён). Нужно заменить S на P."
   ]
  },
  {
   "cell_type": "code",
   "execution_count": 13,
   "metadata": {},
   "outputs": [],
   "source": [
    "data['ind_empleado'].replace({'S': 'P'}, inplace=True)"
   ]
  },
  {
   "cell_type": "code",
   "execution_count": 14,
   "metadata": {},
   "outputs": [
    {
     "data": {
      "text/plain": [
       "sexo\n",
       "V    7424252\n",
       "H    6195253\n",
       "Name: count, dtype: int64"
      ]
     },
     "execution_count": 14,
     "metadata": {},
     "output_type": "execute_result"
    }
   ],
   "source": [
    "# Пол\n",
    "# V - возможно, сокращение от Varón (мужчина)\n",
    "# H - скорее всего, сокращение от Hembra (женщина)\n",
    "data['sexo'].value_counts()"
   ]
  },
  {
   "cell_type": "markdown",
   "metadata": {},
   "source": [
    "В этом столбце пропущенные данные можно заполнить наиболее рампространённым классом (V)."
   ]
  },
  {
   "cell_type": "code",
   "execution_count": 15,
   "metadata": {},
   "outputs": [],
   "source": [
    "data['sexo'].fillna('V', inplace=True)"
   ]
  },
  {
   "cell_type": "code",
   "execution_count": 16,
   "metadata": {},
   "outputs": [
    {
     "data": {
      "text/plain": [
       "indrel_1mes\n",
       "1.0    9133383\n",
       "1      4357298\n",
       "3.0       2780\n",
       "3         1570\n",
       "P          874\n",
       "2.0        740\n",
       "2          577\n",
       "4.0        223\n",
       "4           83\n",
       "Name: count, dtype: int64"
      ]
     },
     "execution_count": 16,
     "metadata": {},
     "output_type": "execute_result"
    }
   ],
   "source": [
    "# Тип клиента в начале месяца:\n",
    "# - 1 — премиальный\n",
    "# - 2 — собственник\n",
    "# - P — потенциальный\n",
    "# - 3 — раньше был премиальным\n",
    "# - 4 — раньше был собственником\n",
    "data['indrel_1mes'].value_counts()"
   ]
  },
  {
   "cell_type": "markdown",
   "metadata": {},
   "source": [
    "В данном столбце есть ошибка с записью классов, нужно заменить все float на int. Для пропущенных данных создам новый класс - N."
   ]
  },
  {
   "cell_type": "code",
   "execution_count": 17,
   "metadata": {},
   "outputs": [
    {
     "data": {
      "text/plain": [
       "indrel_1mes\n",
       "1    13490681\n",
       "N      122047\n",
       "3        4350\n",
       "2        1317\n",
       "P         874\n",
       "4         306\n",
       "Name: count, dtype: int64"
      ]
     },
     "execution_count": 17,
     "metadata": {},
     "output_type": "execute_result"
    }
   ],
   "source": [
    "data['indrel_1mes'].replace({'1.0': '1', '2.0': '2', '3.0': '3', '4.0': '4'}, inplace=True)\n",
    "data['indrel_1mes'].fillna('N', inplace=True)\n",
    "data['indrel_1mes'].value_counts()"
   ]
  },
  {
   "cell_type": "code",
   "execution_count": 18,
   "metadata": {},
   "outputs": [
    {
     "data": {
      "text/plain": [
       "tiprel_1mes\n",
       "I    7304875\n",
       "A    6187123\n",
       "P       4656\n",
       "R        870\n",
       "N          4\n",
       "Name: count, dtype: int64"
      ]
     },
     "execution_count": 18,
     "metadata": {},
     "output_type": "execute_result"
    }
   ],
   "source": [
    "# Тип клиента в начале месяца:\n",
    "# - A — активный\n",
    "# - I — неактивный\n",
    "# - P — бывший\n",
    "# - R — потенциальный\n",
    "data['tiprel_1mes'].value_counts()"
   ]
  },
  {
   "cell_type": "markdown",
   "metadata": {},
   "source": [
    "В этом столбце изначально есть 4 значения с классом N, которого быть не должно. Поступлю с этим столбцом также как с предыдущим и пропускам присвою класс N."
   ]
  },
  {
   "cell_type": "code",
   "execution_count": 19,
   "metadata": {},
   "outputs": [],
   "source": [
    "data['tiprel_1mes'].fillna('N', inplace=True)"
   ]
  },
  {
   "cell_type": "code",
   "execution_count": 20,
   "metadata": {},
   "outputs": [
    {
     "data": {
      "text/plain": [
       "canal_entrada\n",
       "KHE    4055270\n",
       "KAT    3268209\n",
       "KFC    3098360\n",
       "KHQ     591039\n",
       "KFA     409669\n",
       "        ...   \n",
       "KDI         17\n",
       "025         11\n",
       "KDL         11\n",
       "KHS          5\n",
       "KHR          1\n",
       "Name: count, Length: 162, dtype: int64"
      ]
     },
     "execution_count": 20,
     "metadata": {},
     "output_type": "execute_result"
    }
   ],
   "source": [
    "# Канал, по которому пришел пользователь\n",
    "data['canal_entrada'].value_counts()"
   ]
  },
  {
   "cell_type": "markdown",
   "metadata": {},
   "source": [
    "В этом столбце 158392 пропуска. В наибольшем классе 4055270 значений. Если присвоить этот класс пропускам картина не сильно изменится."
   ]
  },
  {
   "cell_type": "code",
   "execution_count": 21,
   "metadata": {},
   "outputs": [],
   "source": [
    "data['canal_entrada'].fillna('KHE', inplace=True)"
   ]
  },
  {
   "cell_type": "markdown",
   "metadata": {},
   "source": [
    "В столбце tipodom всего один пропуск. Его можно просто удалить."
   ]
  },
  {
   "cell_type": "code",
   "execution_count": 22,
   "metadata": {},
   "outputs": [],
   "source": [
    "data = data[~data['tipodom'].isna()]"
   ]
  },
  {
   "cell_type": "code",
   "execution_count": 23,
   "metadata": {},
   "outputs": [
    {
     "data": {
      "text/plain": [
       "cod_prov\n",
       "28.0    4409600\n",
       "8.0     1275219\n",
       "46.0     682304\n",
       "41.0     605164\n",
       "15.0     429322\n",
       "30.0     396759\n",
       "29.0     367023\n",
       "50.0     342543\n",
       "3.0      313397\n",
       "11.0     294684\n",
       "36.0     280026\n",
       "33.0     265749\n",
       "47.0     238259\n",
       "35.0     235700\n",
       "6.0      192996\n",
       "48.0     185888\n",
       "45.0     183067\n",
       "18.0     178562\n",
       "37.0     164238\n",
       "39.0     155706\n",
       "14.0     144679\n",
       "10.0     129912\n",
       "7.0      124933\n",
       "21.0     122283\n",
       "13.0     119390\n",
       "2.0      114128\n",
       "12.0     104295\n",
       "43.0     100115\n",
       "9.0       97188\n",
       "17.0      90538\n",
       "31.0      88618\n",
       "26.0      85202\n",
       "27.0      84962\n",
       "32.0      84009\n",
       "24.0      83003\n",
       "25.0      79059\n",
       "20.0      71567\n",
       "38.0      70968\n",
       "19.0      64618\n",
       "23.0      64363\n",
       "4.0       60291\n",
       "16.0      57310\n",
       "49.0      50927\n",
       "34.0      49282\n",
       "40.0      42341\n",
       "22.0      40181\n",
       "5.0       38783\n",
       "1.0       37704\n",
       "44.0      22525\n",
       "42.0      17660\n",
       "52.0       9460\n",
       "51.0       7218\n",
       "Name: count, dtype: int64"
      ]
     },
     "execution_count": 23,
     "metadata": {},
     "output_type": "execute_result"
    }
   ],
   "source": [
    "# Код провинции (адреса клиента)\n",
    "data['cod_prov'].value_counts()"
   ]
  },
  {
   "cell_type": "markdown",
   "metadata": {},
   "source": [
    "В этом столбце 65856 пропусков, как и в столбце nomprov с названием провинции. Все пропуски в этих двух столбцах я заполню наиболее частым классом."
   ]
  },
  {
   "cell_type": "code",
   "execution_count": 24,
   "metadata": {},
   "outputs": [],
   "source": [
    "data['cod_prov'].fillna(28.0, inplace=True)"
   ]
  },
  {
   "cell_type": "code",
   "execution_count": 25,
   "metadata": {},
   "outputs": [
    {
     "data": {
      "text/plain": [
       "nomprov\n",
       "MADRID                    4409600\n",
       "BARCELONA                 1275219\n",
       "VALENCIA                   682304\n",
       "SEVILLA                    605164\n",
       "CORUÑA, A                  429322\n",
       "MURCIA                     396759\n",
       "MALAGA                     367023\n",
       "ZARAGOZA                   342543\n",
       "ALICANTE                   313397\n",
       "CADIZ                      294684\n",
       "PONTEVEDRA                 280026\n",
       "ASTURIAS                   265749\n",
       "VALLADOLID                 238259\n",
       "PALMAS, LAS                235700\n",
       "BADAJOZ                    192996\n",
       "BIZKAIA                    185888\n",
       "TOLEDO                     183067\n",
       "GRANADA                    178562\n",
       "SALAMANCA                  164238\n",
       "CANTABRIA                  155706\n",
       "CORDOBA                    144679\n",
       "CACERES                    129912\n",
       "BALEARS, ILLES             124933\n",
       "HUELVA                     122283\n",
       "CIUDAD REAL                119390\n",
       "ALBACETE                   114128\n",
       "CASTELLON                  104295\n",
       "TARRAGONA                  100115\n",
       "BURGOS                      97188\n",
       "GIRONA                      90538\n",
       "NAVARRA                     88618\n",
       "RIOJA, LA                   85202\n",
       "LUGO                        84962\n",
       "OURENSE                     84009\n",
       "LEON                        83003\n",
       "LERIDA                      79059\n",
       "GIPUZKOA                    71567\n",
       "SANTA CRUZ DE TENERIFE      70968\n",
       "GUADALAJARA                 64618\n",
       "JAEN                        64363\n",
       "ALMERIA                     60291\n",
       "CUENCA                      57310\n",
       "ZAMORA                      50927\n",
       "PALENCIA                    49282\n",
       "SEGOVIA                     42341\n",
       "HUESCA                      40181\n",
       "AVILA                       38783\n",
       "ALAVA                       37704\n",
       "TERUEL                      22525\n",
       "SORIA                       17660\n",
       "MELILLA                      9460\n",
       "CEUTA                        7218\n",
       "Name: count, dtype: int64"
      ]
     },
     "execution_count": 25,
     "metadata": {},
     "output_type": "execute_result"
    }
   ],
   "source": [
    "data['nomprov'].value_counts()"
   ]
  },
  {
   "cell_type": "code",
   "execution_count": 26,
   "metadata": {},
   "outputs": [],
   "source": [
    "data['nomprov'].fillna('MADRID', inplace=True)"
   ]
  },
  {
   "cell_type": "code",
   "execution_count": 27,
   "metadata": {},
   "outputs": [
    {
     "data": {
      "text/plain": [
       "count    1.085293e+07\n",
       "mean     1.342543e+05\n",
       "std      2.306202e+05\n",
       "min      1.202730e+03\n",
       "25%      6.871098e+04\n",
       "50%      1.018500e+05\n",
       "75%      1.559560e+05\n",
       "max      2.889440e+07\n",
       "Name: renta, dtype: float64"
      ]
     },
     "execution_count": 27,
     "metadata": {},
     "output_type": "execute_result"
    }
   ],
   "source": [
    "# Доход домохозяйства\n",
    "data['renta'].describe()"
   ]
  },
  {
   "cell_type": "markdown",
   "metadata": {},
   "source": [
    "В этом столбце заполню пропуски медианным значением."
   ]
  },
  {
   "cell_type": "code",
   "execution_count": 28,
   "metadata": {},
   "outputs": [],
   "source": [
    "data['renta'].fillna(data['renta'].median(), inplace=True)"
   ]
  },
  {
   "cell_type": "code",
   "execution_count": 29,
   "metadata": {},
   "outputs": [
    {
     "data": {
      "text/plain": [
       "segmento\n",
       "02 - PARTICULARES     7960219\n",
       "03 - UNIVERSITARIO    4935579\n",
       "01 - TOP               562142\n",
       "Name: count, dtype: int64"
      ]
     },
     "execution_count": 29,
     "metadata": {},
     "output_type": "execute_result"
    }
   ],
   "source": [
    "# Сегментация: 1 — VIP, 2 — Обыкновенные 3 — выпускники колледжей\n",
    "data['segmento'].value_counts()"
   ]
  },
  {
   "cell_type": "markdown",
   "metadata": {},
   "source": [
    "Заполню пропуски наиболее распространённым классом и переименую значения, убрав из них цифры."
   ]
  },
  {
   "cell_type": "code",
   "execution_count": 30,
   "metadata": {},
   "outputs": [],
   "source": [
    "data['segmento'].fillna('02 - PARTICULARES', inplace=True)\n",
    "data['segmento'].replace({'01 - TOP': 'TOP', '02 - PARTICULARES': 'PARTICULARES', '03 - UNIVERSITARIO': 'UNIVERSITARIO'}, inplace=True)"
   ]
  },
  {
   "cell_type": "markdown",
   "metadata": {},
   "source": [
    "В столбцах ind_nomina_ult1 и ind_nom_pens_ult1 по 217 пропусков. Удалю строки с этими пропусками."
   ]
  },
  {
   "cell_type": "code",
   "execution_count": 31,
   "metadata": {},
   "outputs": [],
   "source": [
    "data = data[~data['ind_nomina_ult1'].isna()]"
   ]
  },
  {
   "cell_type": "code",
   "execution_count": 32,
   "metadata": {},
   "outputs": [
    {
     "data": {
      "text/plain": [
       "0    46\n",
       "Name: count, dtype: int64"
      ]
     },
     "execution_count": 32,
     "metadata": {},
     "output_type": "execute_result"
    }
   ],
   "source": [
    "# Финальная проверка на наличие пропусков\n",
    "data.isna().sum().value_counts()"
   ]
  },
  {
   "cell_type": "markdown",
   "metadata": {},
   "source": [
    "#### Проверка числовых столбцов на аномальные значения"
   ]
  },
  {
   "cell_type": "code",
   "execution_count": 33,
   "metadata": {},
   "outputs": [
    {
     "data": {
      "text/html": [
       "<div>\n",
       "<style scoped>\n",
       "    .dataframe tbody tr th:only-of-type {\n",
       "        vertical-align: middle;\n",
       "    }\n",
       "\n",
       "    .dataframe tbody tr th {\n",
       "        vertical-align: top;\n",
       "    }\n",
       "\n",
       "    .dataframe thead th {\n",
       "        text-align: right;\n",
       "    }\n",
       "</style>\n",
       "<table border=\"1\" class=\"dataframe\">\n",
       "  <thead>\n",
       "    <tr style=\"text-align: right;\">\n",
       "      <th></th>\n",
       "      <th>count</th>\n",
       "      <th>mean</th>\n",
       "      <th>std</th>\n",
       "      <th>min</th>\n",
       "      <th>25%</th>\n",
       "      <th>50%</th>\n",
       "      <th>75%</th>\n",
       "      <th>max</th>\n",
       "    </tr>\n",
       "  </thead>\n",
       "  <tbody>\n",
       "    <tr>\n",
       "      <th>ncodpers</th>\n",
       "      <td>13619357.0</td>\n",
       "      <td>835081.208927</td>\n",
       "      <td>431577.782415</td>\n",
       "      <td>15889.00</td>\n",
       "      <td>452924.00</td>\n",
       "      <td>932182.0</td>\n",
       "      <td>1199355.00</td>\n",
       "      <td>1553689.00</td>\n",
       "    </tr>\n",
       "    <tr>\n",
       "      <th>ind_nuevo</th>\n",
       "      <td>13619357.0</td>\n",
       "      <td>0.059555</td>\n",
       "      <td>0.236660</td>\n",
       "      <td>0.00</td>\n",
       "      <td>0.00</td>\n",
       "      <td>0.0</td>\n",
       "      <td>0.00</td>\n",
       "      <td>1.00</td>\n",
       "    </tr>\n",
       "    <tr>\n",
       "      <th>indrel</th>\n",
       "      <td>13619357.0</td>\n",
       "      <td>1.178394</td>\n",
       "      <td>4.177418</td>\n",
       "      <td>1.00</td>\n",
       "      <td>1.00</td>\n",
       "      <td>1.0</td>\n",
       "      <td>1.00</td>\n",
       "      <td>99.00</td>\n",
       "    </tr>\n",
       "    <tr>\n",
       "      <th>tipodom</th>\n",
       "      <td>13619357.0</td>\n",
       "      <td>1.000000</td>\n",
       "      <td>0.000000</td>\n",
       "      <td>1.00</td>\n",
       "      <td>1.00</td>\n",
       "      <td>1.0</td>\n",
       "      <td>1.00</td>\n",
       "      <td>1.00</td>\n",
       "    </tr>\n",
       "    <tr>\n",
       "      <th>cod_prov</th>\n",
       "      <td>13619357.0</td>\n",
       "      <td>26.578344</td>\n",
       "      <td>12.753490</td>\n",
       "      <td>1.00</td>\n",
       "      <td>15.00</td>\n",
       "      <td>28.0</td>\n",
       "      <td>34.00</td>\n",
       "      <td>52.00</td>\n",
       "    </tr>\n",
       "    <tr>\n",
       "      <th>ind_actividad_cliente</th>\n",
       "      <td>13619357.0</td>\n",
       "      <td>0.457806</td>\n",
       "      <td>0.498217</td>\n",
       "      <td>0.00</td>\n",
       "      <td>0.00</td>\n",
       "      <td>0.0</td>\n",
       "      <td>1.00</td>\n",
       "      <td>1.00</td>\n",
       "    </tr>\n",
       "    <tr>\n",
       "      <th>renta</th>\n",
       "      <td>13619357.0</td>\n",
       "      <td>127671.270142</td>\n",
       "      <td>206280.819230</td>\n",
       "      <td>1202.73</td>\n",
       "      <td>76365.15</td>\n",
       "      <td>101850.0</td>\n",
       "      <td>137625.75</td>\n",
       "      <td>28894395.51</td>\n",
       "    </tr>\n",
       "    <tr>\n",
       "      <th>ind_ahor_fin_ult1</th>\n",
       "      <td>13619357.0</td>\n",
       "      <td>0.000103</td>\n",
       "      <td>0.010124</td>\n",
       "      <td>0.00</td>\n",
       "      <td>0.00</td>\n",
       "      <td>0.0</td>\n",
       "      <td>0.00</td>\n",
       "      <td>1.00</td>\n",
       "    </tr>\n",
       "    <tr>\n",
       "      <th>ind_aval_fin_ult1</th>\n",
       "      <td>13619357.0</td>\n",
       "      <td>0.000023</td>\n",
       "      <td>0.004817</td>\n",
       "      <td>0.00</td>\n",
       "      <td>0.00</td>\n",
       "      <td>0.0</td>\n",
       "      <td>0.00</td>\n",
       "      <td>1.00</td>\n",
       "    </tr>\n",
       "    <tr>\n",
       "      <th>ind_cco_fin_ult1</th>\n",
       "      <td>13619357.0</td>\n",
       "      <td>0.656282</td>\n",
       "      <td>0.474948</td>\n",
       "      <td>0.00</td>\n",
       "      <td>0.00</td>\n",
       "      <td>1.0</td>\n",
       "      <td>1.00</td>\n",
       "      <td>1.00</td>\n",
       "    </tr>\n",
       "    <tr>\n",
       "      <th>ind_cder_fin_ult1</th>\n",
       "      <td>13619357.0</td>\n",
       "      <td>0.000394</td>\n",
       "      <td>0.019857</td>\n",
       "      <td>0.00</td>\n",
       "      <td>0.00</td>\n",
       "      <td>0.0</td>\n",
       "      <td>0.00</td>\n",
       "      <td>1.00</td>\n",
       "    </tr>\n",
       "    <tr>\n",
       "      <th>ind_cno_fin_ult1</th>\n",
       "      <td>13619357.0</td>\n",
       "      <td>0.080989</td>\n",
       "      <td>0.272818</td>\n",
       "      <td>0.00</td>\n",
       "      <td>0.00</td>\n",
       "      <td>0.0</td>\n",
       "      <td>0.00</td>\n",
       "      <td>1.00</td>\n",
       "    </tr>\n",
       "    <tr>\n",
       "      <th>ind_ctju_fin_ult1</th>\n",
       "      <td>13619357.0</td>\n",
       "      <td>0.009475</td>\n",
       "      <td>0.096879</td>\n",
       "      <td>0.00</td>\n",
       "      <td>0.00</td>\n",
       "      <td>0.0</td>\n",
       "      <td>0.00</td>\n",
       "      <td>1.00</td>\n",
       "    </tr>\n",
       "    <tr>\n",
       "      <th>ind_ctma_fin_ult1</th>\n",
       "      <td>13619357.0</td>\n",
       "      <td>0.009711</td>\n",
       "      <td>0.098065</td>\n",
       "      <td>0.00</td>\n",
       "      <td>0.00</td>\n",
       "      <td>0.0</td>\n",
       "      <td>0.00</td>\n",
       "      <td>1.00</td>\n",
       "    </tr>\n",
       "    <tr>\n",
       "      <th>ind_ctop_fin_ult1</th>\n",
       "      <td>13619357.0</td>\n",
       "      <td>0.129183</td>\n",
       "      <td>0.335402</td>\n",
       "      <td>0.00</td>\n",
       "      <td>0.00</td>\n",
       "      <td>0.0</td>\n",
       "      <td>0.00</td>\n",
       "      <td>1.00</td>\n",
       "    </tr>\n",
       "    <tr>\n",
       "      <th>ind_ctpp_fin_ult1</th>\n",
       "      <td>13619357.0</td>\n",
       "      <td>0.043369</td>\n",
       "      <td>0.203686</td>\n",
       "      <td>0.00</td>\n",
       "      <td>0.00</td>\n",
       "      <td>0.0</td>\n",
       "      <td>0.00</td>\n",
       "      <td>1.00</td>\n",
       "    </tr>\n",
       "    <tr>\n",
       "      <th>ind_deco_fin_ult1</th>\n",
       "      <td>13619357.0</td>\n",
       "      <td>0.001750</td>\n",
       "      <td>0.041796</td>\n",
       "      <td>0.00</td>\n",
       "      <td>0.00</td>\n",
       "      <td>0.0</td>\n",
       "      <td>0.00</td>\n",
       "      <td>1.00</td>\n",
       "    </tr>\n",
       "    <tr>\n",
       "      <th>ind_deme_fin_ult1</th>\n",
       "      <td>13619357.0</td>\n",
       "      <td>0.001664</td>\n",
       "      <td>0.040759</td>\n",
       "      <td>0.00</td>\n",
       "      <td>0.00</td>\n",
       "      <td>0.0</td>\n",
       "      <td>0.00</td>\n",
       "      <td>1.00</td>\n",
       "    </tr>\n",
       "    <tr>\n",
       "      <th>ind_dela_fin_ult1</th>\n",
       "      <td>13619357.0</td>\n",
       "      <td>0.043043</td>\n",
       "      <td>0.202954</td>\n",
       "      <td>0.00</td>\n",
       "      <td>0.00</td>\n",
       "      <td>0.0</td>\n",
       "      <td>0.00</td>\n",
       "      <td>1.00</td>\n",
       "    </tr>\n",
       "    <tr>\n",
       "      <th>ind_ecue_fin_ult1</th>\n",
       "      <td>13619357.0</td>\n",
       "      <td>0.082825</td>\n",
       "      <td>0.275618</td>\n",
       "      <td>0.00</td>\n",
       "      <td>0.00</td>\n",
       "      <td>0.0</td>\n",
       "      <td>0.00</td>\n",
       "      <td>1.00</td>\n",
       "    </tr>\n",
       "    <tr>\n",
       "      <th>ind_fond_fin_ult1</th>\n",
       "      <td>13619357.0</td>\n",
       "      <td>0.018515</td>\n",
       "      <td>0.134803</td>\n",
       "      <td>0.00</td>\n",
       "      <td>0.00</td>\n",
       "      <td>0.0</td>\n",
       "      <td>0.00</td>\n",
       "      <td>1.00</td>\n",
       "    </tr>\n",
       "    <tr>\n",
       "      <th>ind_hip_fin_ult1</th>\n",
       "      <td>13619357.0</td>\n",
       "      <td>0.005881</td>\n",
       "      <td>0.076460</td>\n",
       "      <td>0.00</td>\n",
       "      <td>0.00</td>\n",
       "      <td>0.0</td>\n",
       "      <td>0.00</td>\n",
       "      <td>1.00</td>\n",
       "    </tr>\n",
       "    <tr>\n",
       "      <th>ind_plan_fin_ult1</th>\n",
       "      <td>13619357.0</td>\n",
       "      <td>0.009185</td>\n",
       "      <td>0.095399</td>\n",
       "      <td>0.00</td>\n",
       "      <td>0.00</td>\n",
       "      <td>0.0</td>\n",
       "      <td>0.00</td>\n",
       "      <td>1.00</td>\n",
       "    </tr>\n",
       "    <tr>\n",
       "      <th>ind_pres_fin_ult1</th>\n",
       "      <td>13619357.0</td>\n",
       "      <td>0.002535</td>\n",
       "      <td>0.050283</td>\n",
       "      <td>0.00</td>\n",
       "      <td>0.00</td>\n",
       "      <td>0.0</td>\n",
       "      <td>0.00</td>\n",
       "      <td>1.00</td>\n",
       "    </tr>\n",
       "    <tr>\n",
       "      <th>ind_reca_fin_ult1</th>\n",
       "      <td>13619357.0</td>\n",
       "      <td>0.051892</td>\n",
       "      <td>0.221809</td>\n",
       "      <td>0.00</td>\n",
       "      <td>0.00</td>\n",
       "      <td>0.0</td>\n",
       "      <td>0.00</td>\n",
       "      <td>1.00</td>\n",
       "    </tr>\n",
       "    <tr>\n",
       "      <th>ind_tjcr_fin_ult1</th>\n",
       "      <td>13619357.0</td>\n",
       "      <td>0.044463</td>\n",
       "      <td>0.206122</td>\n",
       "      <td>0.00</td>\n",
       "      <td>0.00</td>\n",
       "      <td>0.0</td>\n",
       "      <td>0.00</td>\n",
       "      <td>1.00</td>\n",
       "    </tr>\n",
       "    <tr>\n",
       "      <th>ind_valo_fin_ult1</th>\n",
       "      <td>13619357.0</td>\n",
       "      <td>0.025649</td>\n",
       "      <td>0.158086</td>\n",
       "      <td>0.00</td>\n",
       "      <td>0.00</td>\n",
       "      <td>0.0</td>\n",
       "      <td>0.00</td>\n",
       "      <td>1.00</td>\n",
       "    </tr>\n",
       "    <tr>\n",
       "      <th>ind_viv_fin_ult1</th>\n",
       "      <td>13619357.0</td>\n",
       "      <td>0.003854</td>\n",
       "      <td>0.061958</td>\n",
       "      <td>0.00</td>\n",
       "      <td>0.00</td>\n",
       "      <td>0.0</td>\n",
       "      <td>0.00</td>\n",
       "      <td>1.00</td>\n",
       "    </tr>\n",
       "    <tr>\n",
       "      <th>ind_nomina_ult1</th>\n",
       "      <td>13619357.0</td>\n",
       "      <td>0.054757</td>\n",
       "      <td>0.227505</td>\n",
       "      <td>0.00</td>\n",
       "      <td>0.00</td>\n",
       "      <td>0.0</td>\n",
       "      <td>0.00</td>\n",
       "      <td>1.00</td>\n",
       "    </tr>\n",
       "    <tr>\n",
       "      <th>ind_nom_pens_ult1</th>\n",
       "      <td>13619357.0</td>\n",
       "      <td>0.059464</td>\n",
       "      <td>0.236491</td>\n",
       "      <td>0.00</td>\n",
       "      <td>0.00</td>\n",
       "      <td>0.0</td>\n",
       "      <td>0.00</td>\n",
       "      <td>1.00</td>\n",
       "    </tr>\n",
       "    <tr>\n",
       "      <th>ind_recibo_ult1</th>\n",
       "      <td>13619357.0</td>\n",
       "      <td>0.128112</td>\n",
       "      <td>0.334214</td>\n",
       "      <td>0.00</td>\n",
       "      <td>0.00</td>\n",
       "      <td>0.0</td>\n",
       "      <td>0.00</td>\n",
       "      <td>1.00</td>\n",
       "    </tr>\n",
       "  </tbody>\n",
       "</table>\n",
       "</div>"
      ],
      "text/plain": [
       "                            count           mean            std       min   \n",
       "ncodpers               13619357.0  835081.208927  431577.782415  15889.00  \\\n",
       "ind_nuevo              13619357.0       0.059555       0.236660      0.00   \n",
       "indrel                 13619357.0       1.178394       4.177418      1.00   \n",
       "tipodom                13619357.0       1.000000       0.000000      1.00   \n",
       "cod_prov               13619357.0      26.578344      12.753490      1.00   \n",
       "ind_actividad_cliente  13619357.0       0.457806       0.498217      0.00   \n",
       "renta                  13619357.0  127671.270142  206280.819230   1202.73   \n",
       "ind_ahor_fin_ult1      13619357.0       0.000103       0.010124      0.00   \n",
       "ind_aval_fin_ult1      13619357.0       0.000023       0.004817      0.00   \n",
       "ind_cco_fin_ult1       13619357.0       0.656282       0.474948      0.00   \n",
       "ind_cder_fin_ult1      13619357.0       0.000394       0.019857      0.00   \n",
       "ind_cno_fin_ult1       13619357.0       0.080989       0.272818      0.00   \n",
       "ind_ctju_fin_ult1      13619357.0       0.009475       0.096879      0.00   \n",
       "ind_ctma_fin_ult1      13619357.0       0.009711       0.098065      0.00   \n",
       "ind_ctop_fin_ult1      13619357.0       0.129183       0.335402      0.00   \n",
       "ind_ctpp_fin_ult1      13619357.0       0.043369       0.203686      0.00   \n",
       "ind_deco_fin_ult1      13619357.0       0.001750       0.041796      0.00   \n",
       "ind_deme_fin_ult1      13619357.0       0.001664       0.040759      0.00   \n",
       "ind_dela_fin_ult1      13619357.0       0.043043       0.202954      0.00   \n",
       "ind_ecue_fin_ult1      13619357.0       0.082825       0.275618      0.00   \n",
       "ind_fond_fin_ult1      13619357.0       0.018515       0.134803      0.00   \n",
       "ind_hip_fin_ult1       13619357.0       0.005881       0.076460      0.00   \n",
       "ind_plan_fin_ult1      13619357.0       0.009185       0.095399      0.00   \n",
       "ind_pres_fin_ult1      13619357.0       0.002535       0.050283      0.00   \n",
       "ind_reca_fin_ult1      13619357.0       0.051892       0.221809      0.00   \n",
       "ind_tjcr_fin_ult1      13619357.0       0.044463       0.206122      0.00   \n",
       "ind_valo_fin_ult1      13619357.0       0.025649       0.158086      0.00   \n",
       "ind_viv_fin_ult1       13619357.0       0.003854       0.061958      0.00   \n",
       "ind_nomina_ult1        13619357.0       0.054757       0.227505      0.00   \n",
       "ind_nom_pens_ult1      13619357.0       0.059464       0.236491      0.00   \n",
       "ind_recibo_ult1        13619357.0       0.128112       0.334214      0.00   \n",
       "\n",
       "                             25%       50%         75%          max  \n",
       "ncodpers               452924.00  932182.0  1199355.00   1553689.00  \n",
       "ind_nuevo                   0.00       0.0        0.00         1.00  \n",
       "indrel                      1.00       1.0        1.00        99.00  \n",
       "tipodom                     1.00       1.0        1.00         1.00  \n",
       "cod_prov                   15.00      28.0       34.00        52.00  \n",
       "ind_actividad_cliente       0.00       0.0        1.00         1.00  \n",
       "renta                   76365.15  101850.0   137625.75  28894395.51  \n",
       "ind_ahor_fin_ult1           0.00       0.0        0.00         1.00  \n",
       "ind_aval_fin_ult1           0.00       0.0        0.00         1.00  \n",
       "ind_cco_fin_ult1            0.00       1.0        1.00         1.00  \n",
       "ind_cder_fin_ult1           0.00       0.0        0.00         1.00  \n",
       "ind_cno_fin_ult1            0.00       0.0        0.00         1.00  \n",
       "ind_ctju_fin_ult1           0.00       0.0        0.00         1.00  \n",
       "ind_ctma_fin_ult1           0.00       0.0        0.00         1.00  \n",
       "ind_ctop_fin_ult1           0.00       0.0        0.00         1.00  \n",
       "ind_ctpp_fin_ult1           0.00       0.0        0.00         1.00  \n",
       "ind_deco_fin_ult1           0.00       0.0        0.00         1.00  \n",
       "ind_deme_fin_ult1           0.00       0.0        0.00         1.00  \n",
       "ind_dela_fin_ult1           0.00       0.0        0.00         1.00  \n",
       "ind_ecue_fin_ult1           0.00       0.0        0.00         1.00  \n",
       "ind_fond_fin_ult1           0.00       0.0        0.00         1.00  \n",
       "ind_hip_fin_ult1            0.00       0.0        0.00         1.00  \n",
       "ind_plan_fin_ult1           0.00       0.0        0.00         1.00  \n",
       "ind_pres_fin_ult1           0.00       0.0        0.00         1.00  \n",
       "ind_reca_fin_ult1           0.00       0.0        0.00         1.00  \n",
       "ind_tjcr_fin_ult1           0.00       0.0        0.00         1.00  \n",
       "ind_valo_fin_ult1           0.00       0.0        0.00         1.00  \n",
       "ind_viv_fin_ult1            0.00       0.0        0.00         1.00  \n",
       "ind_nomina_ult1             0.00       0.0        0.00         1.00  \n",
       "ind_nom_pens_ult1           0.00       0.0        0.00         1.00  \n",
       "ind_recibo_ult1             0.00       0.0        0.00         1.00  "
      ]
     },
     "execution_count": 33,
     "metadata": {},
     "output_type": "execute_result"
    }
   ],
   "source": [
    "data.select_dtypes(include=['int', 'number']).describe().T"
   ]
  },
  {
   "cell_type": "markdown",
   "metadata": {},
   "source": [
    "Все данные в порядке, кроме столбца tipodom, в котором все значения 1. Этот столбец я удалю. Помимо этого нужно проверить столбец renta с доходами домохозяйства."
   ]
  },
  {
   "cell_type": "code",
   "execution_count": 34,
   "metadata": {},
   "outputs": [],
   "source": [
    "data.drop('tipodom', axis=1, inplace=True)"
   ]
  },
  {
   "cell_type": "code",
   "execution_count": 35,
   "metadata": {},
   "outputs": [
    {
     "data": {
      "text/plain": [
       "345394.19280000194"
      ]
     },
     "execution_count": 35,
     "metadata": {},
     "output_type": "execute_result"
    }
   ],
   "source": [
    "q = data['renta'].quantile(0.97)\n",
    "q"
   ]
  },
  {
   "cell_type": "code",
   "execution_count": 36,
   "metadata": {},
   "outputs": [],
   "source": [
    "# избавлюсь от аномально больших значений\n",
    "data = data[data['renta'] < q]"
   ]
  },
  {
   "cell_type": "code",
   "execution_count": 37,
   "metadata": {},
   "outputs": [
    {
     "data": {
      "text/plain": [
       "dtype('O')"
      ]
     },
     "execution_count": 37,
     "metadata": {},
     "output_type": "execute_result"
    }
   ],
   "source": [
    "data['age'].dtype"
   ]
  },
  {
   "cell_type": "markdown",
   "metadata": {},
   "source": [
    "В столбце с возрастом клиента данные записаны как строки. Нужно привести их к типу int."
   ]
  },
  {
   "cell_type": "code",
   "execution_count": 38,
   "metadata": {},
   "outputs": [],
   "source": [
    "data['age'] = data['age'].astype(int)"
   ]
  },
  {
   "cell_type": "code",
   "execution_count": 39,
   "metadata": {},
   "outputs": [
    {
     "data": {
      "text/plain": [
       "dtype('O')"
      ]
     },
     "execution_count": 39,
     "metadata": {},
     "output_type": "execute_result"
    }
   ],
   "source": [
    "data['antiguedad'].dtype"
   ]
  },
  {
   "cell_type": "markdown",
   "metadata": {},
   "source": [
    "Со столбцом antiguedad возникла такая же проблема."
   ]
  },
  {
   "cell_type": "code",
   "execution_count": 40,
   "metadata": {},
   "outputs": [],
   "source": [
    "data['antiguedad'] = data['antiguedad'].astype(int)"
   ]
  },
  {
   "cell_type": "markdown",
   "metadata": {},
   "source": [
    "### Проверка зависимостей и переодичности в данных"
   ]
  },
  {
   "cell_type": "markdown",
   "metadata": {},
   "source": [
    "Тепловая карта корреляций числовых признаков"
   ]
  },
  {
   "cell_type": "code",
   "execution_count": 41,
   "metadata": {},
   "outputs": [
    {
     "data": {
      "text/plain": [
       "<Axes: >"
      ]
     },
     "execution_count": 41,
     "metadata": {},
     "output_type": "execute_result"
    },
    {
     "data": {
      "image/png": "[encoded data removed]",
      "text/plain": [
       "<Figure size 2000x1200 with 2 Axes>"
      ]
     },
     "metadata": {},
     "output_type": "display_data"
    }
   ],
   "source": [
    "features = data[['ncodpers', 'age',\t'ind_nuevo', 'antiguedad', 'indrel', 'cod_prov', 'ind_actividad_cliente', 'renta']]\n",
    "\n",
    "upp_mat = np.triu(features.corr())\n",
    "\n",
    "f, ax = plt.subplots(figsize=(20, 12))\n",
    "sns.heatmap(features.corr(), vmin=-1, vmax=+1, annot=True, cmap=\"coolwarm\", mask=upp_mat)"
   ]
  },
  {
   "cell_type": "markdown",
   "metadata": {},
   "source": [
    "Корреляции не обнаружено."
   ]
  },
  {
   "cell_type": "markdown",
   "metadata": {},
   "source": [
    "Проверю баланс классов в бинарных признаках."
   ]
  },
  {
   "cell_type": "code",
   "execution_count": 42,
   "metadata": {},
   "outputs": [
    {
     "data": {
      "text/html": [
       "<div>\n",
       "<style scoped>\n",
       "    .dataframe tbody tr th:only-of-type {\n",
       "        vertical-align: middle;\n",
       "    }\n",
       "\n",
       "    .dataframe tbody tr th {\n",
       "        vertical-align: top;\n",
       "    }\n",
       "\n",
       "    .dataframe thead th {\n",
       "        text-align: right;\n",
       "    }\n",
       "</style>\n",
       "<table border=\"1\" class=\"dataframe\">\n",
       "  <thead>\n",
       "    <tr style=\"text-align: right;\">\n",
       "      <th></th>\n",
       "      <th>fecha_dato</th>\n",
       "      <th>ind_empleado</th>\n",
       "      <th>pais_residencia</th>\n",
       "      <th>sexo</th>\n",
       "      <th>fecha_alta</th>\n",
       "      <th>indrel_1mes</th>\n",
       "      <th>tiprel_1mes</th>\n",
       "      <th>indresi</th>\n",
       "      <th>indext</th>\n",
       "      <th>canal_entrada</th>\n",
       "      <th>indfall</th>\n",
       "      <th>nomprov</th>\n",
       "      <th>segmento</th>\n",
       "    </tr>\n",
       "  </thead>\n",
       "  <tbody>\n",
       "    <tr>\n",
       "      <th>0</th>\n",
       "      <td>2015-01-28</td>\n",
       "      <td>N</td>\n",
       "      <td>ES</td>\n",
       "      <td>H</td>\n",
       "      <td>2015-01-12</td>\n",
       "      <td>1</td>\n",
       "      <td>A</td>\n",
       "      <td>S</td>\n",
       "      <td>N</td>\n",
       "      <td>KHL</td>\n",
       "      <td>N</td>\n",
       "      <td>MALAGA</td>\n",
       "      <td>PARTICULARES</td>\n",
       "    </tr>\n",
       "    <tr>\n",
       "      <th>1</th>\n",
       "      <td>2015-01-28</td>\n",
       "      <td>N</td>\n",
       "      <td>ES</td>\n",
       "      <td>V</td>\n",
       "      <td>2012-08-10</td>\n",
       "      <td>1</td>\n",
       "      <td>I</td>\n",
       "      <td>S</td>\n",
       "      <td>S</td>\n",
       "      <td>KHE</td>\n",
       "      <td>N</td>\n",
       "      <td>CIUDAD REAL</td>\n",
       "      <td>UNIVERSITARIO</td>\n",
       "    </tr>\n",
       "    <tr>\n",
       "      <th>2</th>\n",
       "      <td>2015-01-28</td>\n",
       "      <td>N</td>\n",
       "      <td>ES</td>\n",
       "      <td>V</td>\n",
       "      <td>2012-08-10</td>\n",
       "      <td>1</td>\n",
       "      <td>I</td>\n",
       "      <td>S</td>\n",
       "      <td>N</td>\n",
       "      <td>KHE</td>\n",
       "      <td>N</td>\n",
       "      <td>CIUDAD REAL</td>\n",
       "      <td>UNIVERSITARIO</td>\n",
       "    </tr>\n",
       "    <tr>\n",
       "      <th>3</th>\n",
       "      <td>2015-01-28</td>\n",
       "      <td>N</td>\n",
       "      <td>ES</td>\n",
       "      <td>H</td>\n",
       "      <td>2012-08-10</td>\n",
       "      <td>1</td>\n",
       "      <td>I</td>\n",
       "      <td>S</td>\n",
       "      <td>N</td>\n",
       "      <td>KHD</td>\n",
       "      <td>N</td>\n",
       "      <td>ZARAGOZA</td>\n",
       "      <td>UNIVERSITARIO</td>\n",
       "    </tr>\n",
       "    <tr>\n",
       "      <th>4</th>\n",
       "      <td>2015-01-28</td>\n",
       "      <td>N</td>\n",
       "      <td>ES</td>\n",
       "      <td>V</td>\n",
       "      <td>2012-08-10</td>\n",
       "      <td>1</td>\n",
       "      <td>A</td>\n",
       "      <td>S</td>\n",
       "      <td>N</td>\n",
       "      <td>KHE</td>\n",
       "      <td>N</td>\n",
       "      <td>ZARAGOZA</td>\n",
       "      <td>UNIVERSITARIO</td>\n",
       "    </tr>\n",
       "    <tr>\n",
       "      <th>...</th>\n",
       "      <td>...</td>\n",
       "      <td>...</td>\n",
       "      <td>...</td>\n",
       "      <td>...</td>\n",
       "      <td>...</td>\n",
       "      <td>...</td>\n",
       "      <td>...</td>\n",
       "      <td>...</td>\n",
       "      <td>...</td>\n",
       "      <td>...</td>\n",
       "      <td>...</td>\n",
       "      <td>...</td>\n",
       "      <td>...</td>\n",
       "    </tr>\n",
       "    <tr>\n",
       "      <th>13647304</th>\n",
       "      <td>2016-05-28</td>\n",
       "      <td>N</td>\n",
       "      <td>ES</td>\n",
       "      <td>V</td>\n",
       "      <td>2013-08-14</td>\n",
       "      <td>1</td>\n",
       "      <td>I</td>\n",
       "      <td>S</td>\n",
       "      <td>N</td>\n",
       "      <td>KHE</td>\n",
       "      <td>N</td>\n",
       "      <td>ZARAGOZA</td>\n",
       "      <td>UNIVERSITARIO</td>\n",
       "    </tr>\n",
       "    <tr>\n",
       "      <th>13647305</th>\n",
       "      <td>2016-05-28</td>\n",
       "      <td>N</td>\n",
       "      <td>ES</td>\n",
       "      <td>V</td>\n",
       "      <td>2013-08-14</td>\n",
       "      <td>1</td>\n",
       "      <td>I</td>\n",
       "      <td>S</td>\n",
       "      <td>N</td>\n",
       "      <td>KHE</td>\n",
       "      <td>N</td>\n",
       "      <td>RIOJA, LA</td>\n",
       "      <td>UNIVERSITARIO</td>\n",
       "    </tr>\n",
       "    <tr>\n",
       "      <th>13647306</th>\n",
       "      <td>2016-05-28</td>\n",
       "      <td>N</td>\n",
       "      <td>ES</td>\n",
       "      <td>H</td>\n",
       "      <td>2013-08-14</td>\n",
       "      <td>1</td>\n",
       "      <td>A</td>\n",
       "      <td>S</td>\n",
       "      <td>N</td>\n",
       "      <td>KHE</td>\n",
       "      <td>N</td>\n",
       "      <td>ZARAGOZA</td>\n",
       "      <td>PARTICULARES</td>\n",
       "    </tr>\n",
       "    <tr>\n",
       "      <th>13647307</th>\n",
       "      <td>2016-05-28</td>\n",
       "      <td>N</td>\n",
       "      <td>ES</td>\n",
       "      <td>H</td>\n",
       "      <td>2013-08-14</td>\n",
       "      <td>1</td>\n",
       "      <td>I</td>\n",
       "      <td>S</td>\n",
       "      <td>N</td>\n",
       "      <td>KHE</td>\n",
       "      <td>N</td>\n",
       "      <td>ZARAGOZA</td>\n",
       "      <td>UNIVERSITARIO</td>\n",
       "    </tr>\n",
       "    <tr>\n",
       "      <th>13647308</th>\n",
       "      <td>2016-05-28</td>\n",
       "      <td>N</td>\n",
       "      <td>ES</td>\n",
       "      <td>H</td>\n",
       "      <td>2016-05-13</td>\n",
       "      <td>N</td>\n",
       "      <td>N</td>\n",
       "      <td>S</td>\n",
       "      <td>N</td>\n",
       "      <td>KHE</td>\n",
       "      <td>N</td>\n",
       "      <td>MADRID</td>\n",
       "      <td>PARTICULARES</td>\n",
       "    </tr>\n",
       "  </tbody>\n",
       "</table>\n",
       "<p>13210776 rows × 13 columns</p>\n",
       "</div>"
      ],
      "text/plain": [
       "          fecha_dato ind_empleado pais_residencia sexo  fecha_alta   \n",
       "0         2015-01-28            N              ES    H  2015-01-12  \\\n",
       "1         2015-01-28            N              ES    V  2012-08-10   \n",
       "2         2015-01-28            N              ES    V  2012-08-10   \n",
       "3         2015-01-28            N              ES    H  2012-08-10   \n",
       "4         2015-01-28            N              ES    V  2012-08-10   \n",
       "...              ...          ...             ...  ...         ...   \n",
       "13647304  2016-05-28            N              ES    V  2013-08-14   \n",
       "13647305  2016-05-28            N              ES    V  2013-08-14   \n",
       "13647306  2016-05-28            N              ES    H  2013-08-14   \n",
       "13647307  2016-05-28            N              ES    H  2013-08-14   \n",
       "13647308  2016-05-28            N              ES    H  2016-05-13   \n",
       "\n",
       "         indrel_1mes tiprel_1mes indresi indext canal_entrada indfall   \n",
       "0                  1           A       S      N           KHL       N  \\\n",
       "1                  1           I       S      S           KHE       N   \n",
       "2                  1           I       S      N           KHE       N   \n",
       "3                  1           I       S      N           KHD       N   \n",
       "4                  1           A       S      N           KHE       N   \n",
       "...              ...         ...     ...    ...           ...     ...   \n",
       "13647304           1           I       S      N           KHE       N   \n",
       "13647305           1           I       S      N           KHE       N   \n",
       "13647306           1           A       S      N           KHE       N   \n",
       "13647307           1           I       S      N           KHE       N   \n",
       "13647308           N           N       S      N           KHE       N   \n",
       "\n",
       "              nomprov       segmento  \n",
       "0              MALAGA   PARTICULARES  \n",
       "1         CIUDAD REAL  UNIVERSITARIO  \n",
       "2         CIUDAD REAL  UNIVERSITARIO  \n",
       "3            ZARAGOZA  UNIVERSITARIO  \n",
       "4            ZARAGOZA  UNIVERSITARIO  \n",
       "...               ...            ...  \n",
       "13647304     ZARAGOZA  UNIVERSITARIO  \n",
       "13647305    RIOJA, LA  UNIVERSITARIO  \n",
       "13647306     ZARAGOZA   PARTICULARES  \n",
       "13647307     ZARAGOZA  UNIVERSITARIO  \n",
       "13647308       MADRID   PARTICULARES  \n",
       "\n",
       "[13210776 rows x 13 columns]"
      ]
     },
     "execution_count": 42,
     "metadata": {},
     "output_type": "execute_result"
    }
   ],
   "source": [
    "data.select_dtypes(include=['object'])"
   ]
  },
  {
   "cell_type": "markdown",
   "metadata": {},
   "source": [
    "Пора заменить тип данных в столбцах с датами."
   ]
  },
  {
   "cell_type": "code",
   "execution_count": 43,
   "metadata": {},
   "outputs": [],
   "source": [
    "data['fecha_dato'] = pd.to_datetime(data['fecha_dato'], format='%Y-%m-%d')\n",
    "data['fecha_alta'] = pd.to_datetime(data['fecha_alta'], format='%Y-%m-%d')"
   ]
  },
  {
   "cell_type": "code",
   "execution_count": 44,
   "metadata": {},
   "outputs": [
    {
     "data": {
      "text/plain": [
       "ind_empleado       False\n",
       "pais_residencia    False\n",
       "sexo                True\n",
       "indrel_1mes        False\n",
       "tiprel_1mes        False\n",
       "indresi             True\n",
       "indext              True\n",
       "canal_entrada      False\n",
       "indfall             True\n",
       "nomprov            False\n",
       "segmento           False\n",
       "dtype: bool"
      ]
     },
     "execution_count": 44,
     "metadata": {},
     "output_type": "execute_result"
    }
   ],
   "source": [
    "# столбцы с бинарными признаками\n",
    "data.select_dtypes(include=['object']).nunique() == 2"
   ]
  },
  {
   "cell_type": "code",
   "execution_count": 45,
   "metadata": {},
   "outputs": [
    {
     "data": {
      "text/plain": [
       "<Axes: >"
      ]
     },
     "execution_count": 45,
     "metadata": {},
     "output_type": "execute_result"
    },
    {
     "data": {
      "image/png": "[encoded data removed]",
      "text/plain": [
       "<Figure size 640x480 with 2 Axes>"
      ]
     },
     "metadata": {},
     "output_type": "display_data"
    }
   ],
   "source": [
    "# Тепловая карта бинарных признаков\n",
    "binary_columns = ['sexo', 'indresi', 'indext', 'indfall']\n",
    "\n",
    "heat_df = data[binary_columns].apply(pd.Series.value_counts).T\n",
    "sns.heatmap(heat_df)"
   ]
  },
  {
   "cell_type": "markdown",
   "metadata": {},
   "source": [
    "Во всех признаках кроме пола наблюдается сильный дисбаланс. В будущем нужно будет подумать использовать их или нет."
   ]
  },
  {
   "cell_type": "markdown",
   "metadata": {},
   "source": [
    "Проверю как распределены взаимодействия по датам."
   ]
  },
  {
   "cell_type": "code",
   "execution_count": 46,
   "metadata": {},
   "outputs": [
    {
     "data": {
      "image/png": "[encoded data removed]",
      "text/plain": [
       "<Figure size 1000x500 with 1 Axes>"
      ]
     },
     "metadata": {},
     "output_type": "display_data"
    }
   ],
   "source": [
    "plt.figure(figsize=(10, 5))\n",
    "sns.histplot(data['fecha_dato'], bins=50)\n",
    "\n",
    "plt.xlabel(\"Дата\")\n",
    "plt.ylabel(\"Количество взаимодействий\")\n",
    "plt.title(\"Активность пользователей по датам\")\n",
    "plt.xticks(rotation=45) \n",
    "\n",
    "plt.show()"
   ]
  },
  {
   "cell_type": "markdown",
   "metadata": {},
   "source": [
    "Столбец fecha_dato - это колонка для разделения таблицы. Я так понимаю что это нужно для разделения на train и test, так что график будет полезен."
   ]
  },
  {
   "cell_type": "code",
   "execution_count": 47,
   "metadata": {},
   "outputs": [
    {
     "data": {
      "image/png": "[encoded data removed]",
      "text/plain": [
       "<Figure size 1000x500 with 1 Axes>"
      ]
     },
     "metadata": {},
     "output_type": "display_data"
    }
   ],
   "source": [
    "plt.figure(figsize=(10, 5))\n",
    "sns.histplot(data['fecha_alta'], bins=50)\n",
    "\n",
    "plt.xlabel(\"Дата\")\n",
    "plt.ylabel(\"Количество взаимодействий\")\n",
    "plt.title(\"Дата, когда клиент впервые заключил договор в банке\")\n",
    "plt.xticks(rotation=45) \n",
    "\n",
    "plt.show()"
   ]
  },
  {
   "cell_type": "markdown",
   "metadata": {},
   "source": [
    "Много клиентов стало приходить в банк примерно после 2011 года. Пока не очень понятно будет ли от этих данных польза. Нужно будет поэкспериментировать."
   ]
  }
 ],
 "metadata": {
  "kernelspec": {
   "display_name": ".venv_final",
   "language": "python",
   "name": "python3"
  },
  "language_info": {
   "codemirror_mode": {
    "name": "ipython",
    "version": 3
   },
   "file_extension": ".py",
   "mimetype": "text/x-python",
   "name": "python",
   "nbconvert_exporter": "python",
   "pygments_lexer": "ipython3",
   "version": "3.10.12"
  }
 },
 "nbformat": 4,
 "nbformat_minor": 2
}
