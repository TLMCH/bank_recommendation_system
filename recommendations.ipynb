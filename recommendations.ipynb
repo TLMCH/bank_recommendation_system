{
 "cells": [
  {
   "cell_type": "code",
   "execution_count": 1,
   "metadata": {},
   "outputs": [],
   "source": [
    "import pandas as pd\n",
    "import scipy\n",
    "import sys\n",
    "import sklearn.preprocessing\n",
    "from implicit.als import AlternatingLeastSquares\n",
    "from catboost import CatBoostClassifier, Pool\n",
    "from sklearn.metrics import precision_score, recall_score\n",
    "import mlflow\n",
    "import os\n",
    "import joblib\n",
    "import json"
   ]
  },
  {
   "cell_type": "code",
   "execution_count": 2,
   "metadata": {},
   "outputs": [],
   "source": [
    "data = pd.read_parquet('data/preprocessed_data.parquet')"
   ]
  },
  {
   "cell_type": "markdown",
   "metadata": {},
   "source": [
    "#### Разбиение данных"
   ]
  },
  {
   "cell_type": "code",
   "execution_count": 3,
   "metadata": {},
   "outputs": [],
   "source": [
    "# В качестве точки разбиения возьму дату 01.01.2016\n",
    "train_test_global_time_split_date = pd.to_datetime(\"2016-01-01\")\n",
    "\n",
    "train_test_global_time_split_idx = data[\"fecha_dato\"] < train_test_global_time_split_date\n",
    "events_train = data[train_test_global_time_split_idx]\n",
    "events_test = data[~train_test_global_time_split_idx]"
   ]
  },
  {
   "cell_type": "markdown",
   "metadata": {},
   "source": [
    "### Персональные рекомендации"
   ]
  },
  {
   "cell_type": "code",
   "execution_count": 4,
   "metadata": {},
   "outputs": [
    {
     "name": "stderr",
     "output_type": "stream",
     "text": [
      "/tmp/ipykernel_2510/888135567.py:4: SettingWithCopyWarning: \n",
      "A value is trying to be set on a copy of a slice from a DataFrame.\n",
      "Try using .loc[row_indexer,col_indexer] = value instead\n",
      "\n",
      "See the caveats in the documentation: https://pandas.pydata.org/pandas-docs/stable/user_guide/indexing.html#returning-a-view-versus-a-copy\n",
      "  events_train[\"user_id_enc\"] = user_encoder.fit_transform(events_train[\"ncodpers\"])\n"
     ]
    }
   ],
   "source": [
    "# перекодируем идентификаторы пользователей: \n",
    "# из имеющихся в последовательность 0, 1, 2, ...\n",
    "user_encoder = sklearn.preprocessing.LabelEncoder()\n",
    "events_train[\"user_id_enc\"] = user_encoder.fit_transform(events_train[\"ncodpers\"])"
   ]
  },
  {
   "cell_type": "markdown",
   "metadata": {},
   "source": [
    "Для создания csr матрицы нужно изменить датасет. Оставлю только столбец с индексами пользователей и столбцы с взаимодействиями. Агрегирую данные по пользователям, в столбцах с взаимодействиями с товарами оставлю сумму взаимодействий, так как для одного полтьзователя может быть несколько строк в которых он взаимодействует с одним и тем же товаром."
   ]
  },
  {
   "cell_type": "code",
   "execution_count": 5,
   "metadata": {},
   "outputs": [],
   "source": [
    "data_to_csr = events_train[['user_id_enc', 'ind_ahor_fin_ult1', 'ind_aval_fin_ult1', 'ind_cco_fin_ult1',\n",
    "                            'ind_cder_fin_ult1', 'ind_cno_fin_ult1', 'ind_ctju_fin_ult1',\n",
    "                            'ind_ctma_fin_ult1', 'ind_ctop_fin_ult1', 'ind_ctpp_fin_ult1',\n",
    "                            'ind_deco_fin_ult1', 'ind_deme_fin_ult1', 'ind_dela_fin_ult1',\n",
    "                            'ind_ecue_fin_ult1', 'ind_fond_fin_ult1', 'ind_hip_fin_ult1',\n",
    "                            'ind_plan_fin_ult1', 'ind_pres_fin_ult1', 'ind_reca_fin_ult1',\n",
    "                            'ind_tjcr_fin_ult1', 'ind_valo_fin_ult1', 'ind_viv_fin_ult1',\n",
    "                            'ind_nomina_ult1', 'ind_nom_pens_ult1', 'ind_recibo_ult1']]\n",
    "\n",
    "data_to_csr = data_to_csr.groupby(\"user_id_enc\").any().reset_index()"
   ]
  },
  {
   "cell_type": "code",
   "execution_count": 6,
   "metadata": {},
   "outputs": [],
   "source": [
    "item_columns = data_to_csr.columns[1:]  # Все, кроме user_id\n",
    "\n",
    "# Преобразуем в numpy-массив\n",
    "matrix = data_to_csr[item_columns].values \n",
    "\n",
    "# создаём sparse-матрицу формата CSR \n",
    "user_item_matrix_train = scipy.sparse.csr_matrix(matrix)"
   ]
  },
  {
   "cell_type": "code",
   "execution_count": 7,
   "metadata": {},
   "outputs": [
    {
     "data": {
      "text/plain": [
       "0.03139327745884657"
      ]
     },
     "execution_count": 7,
     "metadata": {},
     "output_type": "execute_result"
    }
   ],
   "source": [
    "#  размер sparse-матрицы формата CSR  в гигабайтах\n",
    "sum([sys.getsizeof(i) for i in user_item_matrix_train.data])/1024**3"
   ]
  },
  {
   "cell_type": "code",
   "execution_count": 8,
   "metadata": {},
   "outputs": [
    {
     "name": "stderr",
     "output_type": "stream",
     "text": [
      "/home/mle-user/sprints/mle-pr-final/.venv_final/lib/python3.10/site-packages/implicit/cpu/als.py:95: RuntimeWarning: OpenBLAS is configured to use 4 threads. It is highly recommended to disable its internal threadpool by setting the environment variable 'OPENBLAS_NUM_THREADS=1' or by calling 'threadpoolctl.threadpool_limits(1, \"blas\")'. Having OpenBLAS use a threadpool can lead to severe performance issues here.\n",
      "  check_blas_config()\n"
     ]
    },
    {
     "data": {
      "application/vnd.jupyter.widget-view+json": {
       "model_id": "2a6d8f6bb48e448c9544a097f7a4066c",
       "version_major": 2,
       "version_minor": 0
      },
      "text/plain": [
       "  0%|          | 0/50 [00:00<?, ?it/s]"
      ]
     },
     "metadata": {},
     "output_type": "display_data"
    }
   ],
   "source": [
    "# создание и тренировка модели\n",
    "als_model = AlternatingLeastSquares(factors=50, iterations=50, regularization=0.05, random_state=0)\n",
    "als_model.fit(user_item_matrix_train)"
   ]
  },
  {
   "cell_type": "code",
   "execution_count": 9,
   "metadata": {},
   "outputs": [],
   "source": [
    "# получаем список всех возможных user_id (перекодированных)\n",
    "user_ids_encoded = range(len(user_encoder.classes_))"
   ]
  },
  {
   "cell_type": "code",
   "execution_count": 10,
   "metadata": {},
   "outputs": [],
   "source": [
    "# получаем рекомендации для всех пользователей\n",
    "als_recommendations = als_model.recommend(\n",
    "    user_ids_encoded, \n",
    "    user_item_matrix_train[user_ids_encoded], \n",
    "    filter_already_liked_items=False, N=10)"
   ]
  },
  {
   "cell_type": "code",
   "execution_count": 11,
   "metadata": {},
   "outputs": [],
   "source": [
    "# преобразуем полученные рекомендации в табличный формат\n",
    "item_ids_enc = als_recommendations[0]\n",
    "als_scores = als_recommendations[1]"
   ]
  },
  {
   "cell_type": "code",
   "execution_count": 12,
   "metadata": {},
   "outputs": [],
   "source": [
    "als_recommendations = pd.DataFrame({\n",
    "    \"user_id_enc\": user_ids_encoded,\n",
    "    \"item_id\": item_ids_enc.tolist(), \n",
    "    \"score\": als_scores.tolist()})"
   ]
  },
  {
   "cell_type": "code",
   "execution_count": 13,
   "metadata": {},
   "outputs": [],
   "source": [
    "als_recommendations = als_recommendations.explode([\"item_id\", \"score\"], ignore_index=True)"
   ]
  },
  {
   "cell_type": "code",
   "execution_count": 14,
   "metadata": {},
   "outputs": [],
   "source": [
    "# приводим типы данных\n",
    "als_recommendations[\"item_id\"] = als_recommendations[\"item_id\"].astype(\"int\")\n",
    "als_recommendations[\"score\"] = als_recommendations[\"score\"].astype(\"float\")"
   ]
  },
  {
   "cell_type": "code",
   "execution_count": 15,
   "metadata": {},
   "outputs": [
    {
     "data": {
      "text/html": [
       "<div>\n",
       "<style scoped>\n",
       "    .dataframe tbody tr th:only-of-type {\n",
       "        vertical-align: middle;\n",
       "    }\n",
       "\n",
       "    .dataframe tbody tr th {\n",
       "        vertical-align: top;\n",
       "    }\n",
       "\n",
       "    .dataframe thead th {\n",
       "        text-align: right;\n",
       "    }\n",
       "</style>\n",
       "<table border=\"1\" class=\"dataframe\">\n",
       "  <thead>\n",
       "    <tr style=\"text-align: right;\">\n",
       "      <th></th>\n",
       "      <th>user_id_enc</th>\n",
       "      <th>item_id</th>\n",
       "      <th>score</th>\n",
       "    </tr>\n",
       "  </thead>\n",
       "  <tbody>\n",
       "    <tr>\n",
       "      <th>0</th>\n",
       "      <td>0</td>\n",
       "      <td>2</td>\n",
       "      <td>1.013371</td>\n",
       "    </tr>\n",
       "    <tr>\n",
       "      <th>1</th>\n",
       "      <td>0</td>\n",
       "      <td>8</td>\n",
       "      <td>1.000471</td>\n",
       "    </tr>\n",
       "    <tr>\n",
       "      <th>2</th>\n",
       "      <td>0</td>\n",
       "      <td>18</td>\n",
       "      <td>1.000344</td>\n",
       "    </tr>\n",
       "    <tr>\n",
       "      <th>3</th>\n",
       "      <td>0</td>\n",
       "      <td>19</td>\n",
       "      <td>1.000204</td>\n",
       "    </tr>\n",
       "    <tr>\n",
       "      <th>4</th>\n",
       "      <td>0</td>\n",
       "      <td>0</td>\n",
       "      <td>0.000625</td>\n",
       "    </tr>\n",
       "    <tr>\n",
       "      <th>5</th>\n",
       "      <td>0</td>\n",
       "      <td>3</td>\n",
       "      <td>0.000589</td>\n",
       "    </tr>\n",
       "    <tr>\n",
       "      <th>6</th>\n",
       "      <td>0</td>\n",
       "      <td>23</td>\n",
       "      <td>0.000525</td>\n",
       "    </tr>\n",
       "    <tr>\n",
       "      <th>7</th>\n",
       "      <td>0</td>\n",
       "      <td>12</td>\n",
       "      <td>0.000508</td>\n",
       "    </tr>\n",
       "    <tr>\n",
       "      <th>8</th>\n",
       "      <td>0</td>\n",
       "      <td>15</td>\n",
       "      <td>0.000444</td>\n",
       "    </tr>\n",
       "    <tr>\n",
       "      <th>9</th>\n",
       "      <td>0</td>\n",
       "      <td>17</td>\n",
       "      <td>0.000431</td>\n",
       "    </tr>\n",
       "  </tbody>\n",
       "</table>\n",
       "</div>"
      ],
      "text/plain": [
       "   user_id_enc  item_id     score\n",
       "0            0        2  1.013371\n",
       "1            0        8  1.000471\n",
       "2            0       18  1.000344\n",
       "3            0       19  1.000204\n",
       "4            0        0  0.000625\n",
       "5            0        3  0.000589\n",
       "6            0       23  0.000525\n",
       "7            0       12  0.000508\n",
       "8            0       15  0.000444\n",
       "9            0       17  0.000431"
      ]
     },
     "execution_count": 15,
     "metadata": {},
     "output_type": "execute_result"
    }
   ],
   "source": [
    "als_recommendations.head(10)"
   ]
  },
  {
   "cell_type": "code",
   "execution_count": 16,
   "metadata": {},
   "outputs": [],
   "source": [
    "item_id_and_name = {0: 'ind_ahor_fin_ult1', 1: 'ind_aval_fin_ult1', 2: 'ind_cco_fin_ult1',\n",
    "                    3: 'ind_cder_fin_ult1', 4: 'ind_cno_fin_ult1', 5: 'ind_ctju_fin_ult1',\n",
    "                    6: 'ind_ctma_fin_ult1', 7: 'ind_ctop_fin_ult1', 8: 'ind_ctpp_fin_ult1',\n",
    "                    9: 'ind_deco_fin_ult1', 10: 'ind_deme_fin_ult1', 11: 'ind_dela_fin_ult1',\n",
    "                    12: 'ind_ecue_fin_ult1', 13: 'ind_fond_fin_ult1', 14: 'ind_hip_fin_ult1',\n",
    "                    15: 'ind_plan_fin_ult1', 16: 'ind_pres_fin_ult1', 17: 'ind_reca_fin_ult1',\n",
    "                    18: 'ind_tjcr_fin_ult1', 19: 'ind_valo_fin_ult1', 20: 'ind_viv_fin_ult1',\n",
    "                    21: 'ind_nomina_ult1', 22: 'ind_nom_pens_ult1', 23: 'ind_recibo_ult1'}"
   ]
  },
  {
   "cell_type": "code",
   "execution_count": 17,
   "metadata": {},
   "outputs": [],
   "source": [
    "als_recommendations['item_name'] = als_recommendations['item_id'].replace(item_id_and_name)"
   ]
  },
  {
   "cell_type": "code",
   "execution_count": 18,
   "metadata": {},
   "outputs": [],
   "source": [
    "als_recommendations['ncodpers'] = user_encoder.inverse_transform(als_recommendations[\"user_id_enc\"])"
   ]
  },
  {
   "cell_type": "code",
   "execution_count": 19,
   "metadata": {},
   "outputs": [
    {
     "data": {
      "text/html": [
       "<div>\n",
       "<style scoped>\n",
       "    .dataframe tbody tr th:only-of-type {\n",
       "        vertical-align: middle;\n",
       "    }\n",
       "\n",
       "    .dataframe tbody tr th {\n",
       "        vertical-align: top;\n",
       "    }\n",
       "\n",
       "    .dataframe thead th {\n",
       "        text-align: right;\n",
       "    }\n",
       "</style>\n",
       "<table border=\"1\" class=\"dataframe\">\n",
       "  <thead>\n",
       "    <tr style=\"text-align: right;\">\n",
       "      <th></th>\n",
       "      <th>user_id_enc</th>\n",
       "      <th>item_id</th>\n",
       "      <th>score</th>\n",
       "      <th>item_name</th>\n",
       "      <th>ncodpers</th>\n",
       "    </tr>\n",
       "  </thead>\n",
       "  <tbody>\n",
       "    <tr>\n",
       "      <th>0</th>\n",
       "      <td>0</td>\n",
       "      <td>2</td>\n",
       "      <td>1.013371</td>\n",
       "      <td>ind_cco_fin_ult1</td>\n",
       "      <td>15889</td>\n",
       "    </tr>\n",
       "    <tr>\n",
       "      <th>1</th>\n",
       "      <td>0</td>\n",
       "      <td>8</td>\n",
       "      <td>1.000471</td>\n",
       "      <td>ind_ctpp_fin_ult1</td>\n",
       "      <td>15889</td>\n",
       "    </tr>\n",
       "    <tr>\n",
       "      <th>2</th>\n",
       "      <td>0</td>\n",
       "      <td>18</td>\n",
       "      <td>1.000344</td>\n",
       "      <td>ind_tjcr_fin_ult1</td>\n",
       "      <td>15889</td>\n",
       "    </tr>\n",
       "    <tr>\n",
       "      <th>3</th>\n",
       "      <td>0</td>\n",
       "      <td>19</td>\n",
       "      <td>1.000204</td>\n",
       "      <td>ind_valo_fin_ult1</td>\n",
       "      <td>15889</td>\n",
       "    </tr>\n",
       "    <tr>\n",
       "      <th>4</th>\n",
       "      <td>0</td>\n",
       "      <td>0</td>\n",
       "      <td>0.000625</td>\n",
       "      <td>ind_ahor_fin_ult1</td>\n",
       "      <td>15889</td>\n",
       "    </tr>\n",
       "    <tr>\n",
       "      <th>...</th>\n",
       "      <td>...</td>\n",
       "      <td>...</td>\n",
       "      <td>...</td>\n",
       "      <td>...</td>\n",
       "      <td>...</td>\n",
       "    </tr>\n",
       "    <tr>\n",
       "      <th>8937055</th>\n",
       "      <td>893705</td>\n",
       "      <td>4</td>\n",
       "      <td>0.000000</td>\n",
       "      <td>ind_cno_fin_ult1</td>\n",
       "      <td>1520376</td>\n",
       "    </tr>\n",
       "    <tr>\n",
       "      <th>8937056</th>\n",
       "      <td>893705</td>\n",
       "      <td>3</td>\n",
       "      <td>0.000000</td>\n",
       "      <td>ind_cder_fin_ult1</td>\n",
       "      <td>1520376</td>\n",
       "    </tr>\n",
       "    <tr>\n",
       "      <th>8937057</th>\n",
       "      <td>893705</td>\n",
       "      <td>2</td>\n",
       "      <td>0.000000</td>\n",
       "      <td>ind_cco_fin_ult1</td>\n",
       "      <td>1520376</td>\n",
       "    </tr>\n",
       "    <tr>\n",
       "      <th>8937058</th>\n",
       "      <td>893705</td>\n",
       "      <td>1</td>\n",
       "      <td>0.000000</td>\n",
       "      <td>ind_aval_fin_ult1</td>\n",
       "      <td>1520376</td>\n",
       "    </tr>\n",
       "    <tr>\n",
       "      <th>8937059</th>\n",
       "      <td>893705</td>\n",
       "      <td>0</td>\n",
       "      <td>0.000000</td>\n",
       "      <td>ind_ahor_fin_ult1</td>\n",
       "      <td>1520376</td>\n",
       "    </tr>\n",
       "  </tbody>\n",
       "</table>\n",
       "<p>8937060 rows × 5 columns</p>\n",
       "</div>"
      ],
      "text/plain": [
       "         user_id_enc  item_id     score          item_name  ncodpers\n",
       "0                  0        2  1.013371   ind_cco_fin_ult1     15889\n",
       "1                  0        8  1.000471  ind_ctpp_fin_ult1     15889\n",
       "2                  0       18  1.000344  ind_tjcr_fin_ult1     15889\n",
       "3                  0       19  1.000204  ind_valo_fin_ult1     15889\n",
       "4                  0        0  0.000625  ind_ahor_fin_ult1     15889\n",
       "...              ...      ...       ...                ...       ...\n",
       "8937055       893705        4  0.000000   ind_cno_fin_ult1   1520376\n",
       "8937056       893705        3  0.000000  ind_cder_fin_ult1   1520376\n",
       "8937057       893705        2  0.000000   ind_cco_fin_ult1   1520376\n",
       "8937058       893705        1  0.000000  ind_aval_fin_ult1   1520376\n",
       "8937059       893705        0  0.000000  ind_ahor_fin_ult1   1520376\n",
       "\n",
       "[8937060 rows x 5 columns]"
      ]
     },
     "execution_count": 19,
     "metadata": {},
     "output_type": "execute_result"
    }
   ],
   "source": [
    "als_recommendations"
   ]
  },
  {
   "cell_type": "code",
   "execution_count": 20,
   "metadata": {},
   "outputs": [
    {
     "data": {
      "text/plain": [
       "['models_and_recommendations/user_encoder.joblib']"
      ]
     },
     "execution_count": 20,
     "metadata": {},
     "output_type": "execute_result"
    }
   ],
   "source": [
    "als_recommendations.to_parquet(\"models_and_recommendations/personal_als.parquet\")\n",
    "joblib.dump(als_model, 'models_and_recommendations/als_model.joblib')\n",
    "joblib.dump(user_encoder, 'models_and_recommendations/user_encoder.joblib')"
   ]
  },
  {
   "cell_type": "code",
   "execution_count": 22,
   "metadata": {},
   "outputs": [
    {
     "name": "stderr",
     "output_type": "stream",
     "text": [
      "2025/04/08 15:02:34 WARNING mlflow.sklearn: Model was missing function: predict. Not logging python_function flavor!\n",
      "2025/04/08 15:02:38 WARNING mlflow.sklearn: Model was missing function: predict. Not logging python_function flavor!\n",
      "Successfully registered model 'als_model'.\n",
      "2025/04/08 15:02:41 INFO mlflow.tracking._model_registry.client: Waiting up to 300 seconds for model version to finish creation. Model name: als_model, version 1\n",
      "Created version '1' of model 'als_model'.\n"
     ]
    }
   ],
   "source": [
    "# логирование ALS модели в MLflow\n",
    "os.environ[\"MLFLOW_S3_ENDPOINT_URL\"] = \"https://storage.yandexcloud.net\"\n",
    "os.environ[\"AWS_ACCESS_KEY_ID\"] = os.getenv(\"AWS_ACCESS_KEY_ID\") \n",
    "os.environ[\"AWS_SECRET_ACCESS_KEY\"] = os.getenv(\"AWS_SECRET_ACCESS_KEY\") \n",
    "\n",
    "\n",
    "TRACKING_SERVER_HOST = \"127.0.0.1\"\n",
    "TRACKING_SERVER_PORT = 5000\n",
    "\n",
    "EXPERIMENT_NAME = \"Bank_recommendations\"\n",
    "RUN_NAME = \"personal_recommendations_ALS\"\n",
    "\n",
    "mlflow.set_tracking_uri(f\"http://{TRACKING_SERVER_HOST}:{TRACKING_SERVER_PORT}\")\n",
    "mlflow.set_registry_uri(f\"http://{TRACKING_SERVER_HOST}:{TRACKING_SERVER_PORT}\")\n",
    "\n",
    "\n",
    "experiment_id = mlflow.create_experiment(EXPERIMENT_NAME)\n",
    "\n",
    "with mlflow.start_run(run_name=RUN_NAME, experiment_id=experiment_id) as run:\n",
    "    run_id = run.info.run_id\n",
    "\n",
    "    mlflow.sklearn.log_model(user_encoder, \"user_encoder\") \n",
    "\n",
    "    model_info = mlflow.sklearn.log_model( \n",
    "\t\tsk_model=als_model, artifact_path='models', registered_model_name='als_model')"
   ]
  },
  {
   "cell_type": "markdown",
   "metadata": {},
   "source": [
    "### Топ популярных"
   ]
  },
  {
   "cell_type": "markdown",
   "metadata": {},
   "source": [
    "Топ популярых продуктов вычислю, посчитав в каждом столбце с продуктом количество единиц."
   ]
  },
  {
   "cell_type": "code",
   "execution_count": 4,
   "metadata": {},
   "outputs": [],
   "source": [
    "target_columns = ['ind_ahor_fin_ult1', 'ind_aval_fin_ult1', 'ind_cco_fin_ult1',\n",
    "                'ind_cder_fin_ult1', 'ind_cno_fin_ult1', 'ind_ctju_fin_ult1',\n",
    "                'ind_ctma_fin_ult1', 'ind_ctop_fin_ult1', 'ind_ctpp_fin_ult1',\n",
    "                'ind_deco_fin_ult1', 'ind_deme_fin_ult1', 'ind_dela_fin_ult1',\n",
    "                'ind_ecue_fin_ult1', 'ind_fond_fin_ult1', 'ind_hip_fin_ult1',\n",
    "                'ind_plan_fin_ult1', 'ind_pres_fin_ult1', 'ind_reca_fin_ult1',\n",
    "                'ind_tjcr_fin_ult1', 'ind_valo_fin_ult1', 'ind_viv_fin_ult1',\n",
    "                'ind_nomina_ult1', 'ind_nom_pens_ult1', 'ind_recibo_ult1']"
   ]
  },
  {
   "cell_type": "code",
   "execution_count": 5,
   "metadata": {},
   "outputs": [],
   "source": [
    "product_popularity = {}\n",
    "for column in target_columns:\n",
    "    product_popularity[column] = events_train[column].sum()"
   ]
  },
  {
   "cell_type": "code",
   "execution_count": 6,
   "metadata": {},
   "outputs": [],
   "source": [
    "product_popularity = dict(sorted(product_popularity.items(), key=lambda x: x[1], reverse=True))"
   ]
  },
  {
   "cell_type": "code",
   "execution_count": 7,
   "metadata": {},
   "outputs": [
    {
     "data": {
      "text/plain": [
       "{'ind_cco_fin_ult1': 5960471,\n",
       " 'ind_ctop_fin_ult1': 1196623,\n",
       " 'ind_recibo_ult1': 1148109,\n",
       " 'ind_ecue_fin_ult1': 734446,\n",
       " 'ind_cno_fin_ult1': 723635,\n",
       " 'ind_nom_pens_ult1': 542593.0,\n",
       " 'ind_nomina_ult1': 500282.0,\n",
       " 'ind_reca_fin_ult1': 454781,\n",
       " 'ind_tjcr_fin_ult1': 410867,\n",
       " 'ind_dela_fin_ult1': 405339,\n",
       " 'ind_ctpp_fin_ult1': 402828,\n",
       " 'ind_valo_fin_ult1': 226167,\n",
       " 'ind_fond_fin_ult1': 166773,\n",
       " 'ind_ctma_fin_ult1': 87370,\n",
       " 'ind_ctju_fin_ult1': 87263,\n",
       " 'ind_plan_fin_ult1': 82414,\n",
       " 'ind_hip_fin_ult1': 55432,\n",
       " 'ind_viv_fin_ult1': 35323,\n",
       " 'ind_pres_fin_ult1': 24033,\n",
       " 'ind_deco_fin_ult1': 21523,\n",
       " 'ind_deme_fin_ult1': 16590,\n",
       " 'ind_cder_fin_ult1': 3611,\n",
       " 'ind_ahor_fin_ult1': 918,\n",
       " 'ind_aval_fin_ult1': 201}"
      ]
     },
     "execution_count": 7,
     "metadata": {},
     "output_type": "execute_result"
    }
   ],
   "source": [
    "product_popularity"
   ]
  },
  {
   "cell_type": "markdown",
   "metadata": {},
   "source": [
    "буду использовать первые 5 продуктов."
   ]
  },
  {
   "cell_type": "code",
   "execution_count": 11,
   "metadata": {},
   "outputs": [
    {
     "data": {
      "text/plain": [
       "['ind_cco_fin_ult1',\n",
       " 'ind_ctop_fin_ult1',\n",
       " 'ind_recibo_ult1',\n",
       " 'ind_ecue_fin_ult1',\n",
       " 'ind_cno_fin_ult1',\n",
       " 'ind_nom_pens_ult1',\n",
       " 'ind_nomina_ult1',\n",
       " 'ind_reca_fin_ult1',\n",
       " 'ind_tjcr_fin_ult1',\n",
       " 'ind_dela_fin_ult1',\n",
       " 'ind_ctpp_fin_ult1',\n",
       " 'ind_valo_fin_ult1',\n",
       " 'ind_fond_fin_ult1',\n",
       " 'ind_ctma_fin_ult1',\n",
       " 'ind_ctju_fin_ult1',\n",
       " 'ind_plan_fin_ult1',\n",
       " 'ind_hip_fin_ult1',\n",
       " 'ind_viv_fin_ult1',\n",
       " 'ind_pres_fin_ult1',\n",
       " 'ind_deco_fin_ult1',\n",
       " 'ind_deme_fin_ult1',\n",
       " 'ind_cder_fin_ult1',\n",
       " 'ind_ahor_fin_ult1',\n",
       " 'ind_aval_fin_ult1']"
      ]
     },
     "execution_count": 11,
     "metadata": {},
     "output_type": "execute_result"
    }
   ],
   "source": [
    "list(product_popularity.keys())"
   ]
  },
  {
   "cell_type": "code",
   "execution_count": 12,
   "metadata": {},
   "outputs": [],
   "source": [
    "with open('models_and_recommendations/product_popularity.json', 'w') as f:\n",
    "    json.dump(list(product_popularity.keys()), f)"
   ]
  },
  {
   "cell_type": "markdown",
   "metadata": {},
   "source": [
    "### Ранжирование рекомендаций"
   ]
  },
  {
   "cell_type": "markdown",
   "metadata": {},
   "source": [
    "#### Подготовка данных"
   ]
  },
  {
   "cell_type": "code",
   "execution_count": 4,
   "metadata": {},
   "outputs": [
    {
     "data": {
      "image/png": "[encoded data removed]",
      "text/plain": [
       "<Figure size 1000x500 with 1 Axes>"
      ]
     },
     "metadata": {},
     "output_type": "display_data"
    }
   ],
   "source": [
    "import matplotlib.pyplot as plt\n",
    "import seaborn as sns\n",
    "\n",
    "plt.figure(figsize=(10, 5))\n",
    "sns.histplot(events_test['fecha_dato'], bins=50)\n",
    "\n",
    "plt.xlabel(\"Дата\")\n",
    "plt.ylabel(\"Количество взаимодействий\")\n",
    "plt.title(\"Активность пользователей по датам\")\n",
    "plt.xticks(rotation=45) \n",
    "\n",
    "plt.show()"
   ]
  },
  {
   "cell_type": "markdown",
   "metadata": {},
   "source": [
    "Разобью отложенную раньше тестовую выборку на train и rank для ранжирующей модели."
   ]
  },
  {
   "cell_type": "code",
   "execution_count": 5,
   "metadata": {},
   "outputs": [],
   "source": [
    "als_recommendations = pd.read_parquet('models_and_recommendations/personal_als.parquet')"
   ]
  },
  {
   "cell_type": "code",
   "execution_count": 6,
   "metadata": {},
   "outputs": [],
   "source": [
    "events_labels = events_test.copy()"
   ]
  },
  {
   "cell_type": "code",
   "execution_count": 7,
   "metadata": {},
   "outputs": [],
   "source": [
    "# В качестве точки разбиения возьму дату 01.04.2016\n",
    "train_test_global_time_split_date = pd.to_datetime(\"2016-04-01\")\n",
    "\n",
    "train_test_global_time_split_idx = events_labels[\"fecha_dato\"] < train_test_global_time_split_date\n",
    "events_labels_train = events_labels[train_test_global_time_split_idx]\n",
    "events_labels_rank = events_labels[~train_test_global_time_split_idx]"
   ]
  },
  {
   "cell_type": "markdown",
   "metadata": {},
   "source": [
    "##### train"
   ]
  },
  {
   "cell_type": "code",
   "execution_count": 8,
   "metadata": {},
   "outputs": [
    {
     "data": {
      "text/plain": [
       "Index(['fecha_dato', 'ncodpers', 'ind_empleado', 'pais_residencia', 'sexo',\n",
       "       'age', 'fecha_alta', 'ind_nuevo', 'antiguedad', 'indrel', 'indrel_1mes',\n",
       "       'tiprel_1mes', 'indresi', 'indext', 'canal_entrada', 'indfall',\n",
       "       'cod_prov', 'nomprov', 'ind_actividad_cliente', 'renta', 'segmento',\n",
       "       'ind_ahor_fin_ult1', 'ind_aval_fin_ult1', 'ind_cco_fin_ult1',\n",
       "       'ind_cder_fin_ult1', 'ind_cno_fin_ult1', 'ind_ctju_fin_ult1',\n",
       "       'ind_ctma_fin_ult1', 'ind_ctop_fin_ult1', 'ind_ctpp_fin_ult1',\n",
       "       'ind_deco_fin_ult1', 'ind_deme_fin_ult1', 'ind_dela_fin_ult1',\n",
       "       'ind_ecue_fin_ult1', 'ind_fond_fin_ult1', 'ind_hip_fin_ult1',\n",
       "       'ind_plan_fin_ult1', 'ind_pres_fin_ult1', 'ind_reca_fin_ult1',\n",
       "       'ind_tjcr_fin_ult1', 'ind_valo_fin_ult1', 'ind_viv_fin_ult1',\n",
       "       'ind_nomina_ult1', 'ind_nom_pens_ult1', 'ind_recibo_ult1'],\n",
       "      dtype='object')"
      ]
     },
     "execution_count": 8,
     "metadata": {},
     "output_type": "execute_result"
    }
   ],
   "source": [
    "events_labels_train.columns"
   ]
  },
  {
   "cell_type": "code",
   "execution_count": 9,
   "metadata": {},
   "outputs": [],
   "source": [
    "# Удалю дубликаты по столбцу 'ncodpers', оставляя первый экземпляр\n",
    "train_users = events_labels_train.drop_duplicates(subset='ncodpers', keep='first')\n",
    "# Оставлю только столбцы с признаками\n",
    "train_users = train_users[['fecha_dato', 'ncodpers', 'ind_empleado', 'pais_residencia', 'sexo',\n",
    "                            'age', 'fecha_alta', 'ind_nuevo', 'antiguedad', 'indrel', 'indrel_1mes',\n",
    "                            'tiprel_1mes', 'indresi', 'indext', 'canal_entrada', 'indfall',\n",
    "                            'cod_prov', 'nomprov', 'ind_actividad_cliente', 'renta', 'segmento']]"
   ]
  },
  {
   "cell_type": "code",
   "execution_count": 10,
   "metadata": {},
   "outputs": [],
   "source": [
    "train_targets = events_labels_train[['ncodpers', 'ind_ahor_fin_ult1', 'ind_aval_fin_ult1', 'ind_cco_fin_ult1',\n",
    "                                    'ind_cder_fin_ult1', 'ind_cno_fin_ult1', 'ind_ctju_fin_ult1',\n",
    "                                    'ind_ctma_fin_ult1', 'ind_ctop_fin_ult1', 'ind_ctpp_fin_ult1',\n",
    "                                    'ind_deco_fin_ult1', 'ind_deme_fin_ult1', 'ind_dela_fin_ult1',\n",
    "                                    'ind_ecue_fin_ult1', 'ind_fond_fin_ult1', 'ind_hip_fin_ult1',\n",
    "                                    'ind_plan_fin_ult1', 'ind_pres_fin_ult1', 'ind_reca_fin_ult1',\n",
    "                                    'ind_tjcr_fin_ult1', 'ind_valo_fin_ult1', 'ind_viv_fin_ult1',\n",
    "                                    'ind_nomina_ult1', 'ind_nom_pens_ult1', 'ind_recibo_ult1']]\n",
    "\n",
    "train_targets = train_targets.groupby(\"ncodpers\").any().reset_index()"
   ]
  },
  {
   "cell_type": "code",
   "execution_count": 11,
   "metadata": {},
   "outputs": [],
   "source": [
    "candidates_for_train = train_users.merge(train_targets, on=[\"ncodpers\"], how=\"left\")"
   ]
  },
  {
   "cell_type": "markdown",
   "metadata": {},
   "source": [
    "Остались только уникальные записи пользователей, у которых в столбцах с продуктами хранятся факты взаимодействий."
   ]
  },
  {
   "cell_type": "markdown",
   "metadata": {},
   "source": [
    "Теперь нужно создать столбец item_id_enc, в котором будут храниться идентификаторы продуктов, и столбец target, в котором будут факты взаимодействий."
   ]
  },
  {
   "cell_type": "code",
   "execution_count": 12,
   "metadata": {},
   "outputs": [],
   "source": [
    "feature_columns = ['fecha_dato', 'ncodpers', 'ind_empleado', 'pais_residencia', 'sexo',\n",
    "                    'age', 'fecha_alta', 'ind_nuevo', 'antiguedad', 'indrel', 'indrel_1mes',\n",
    "                    'tiprel_1mes', 'indresi', 'indext', 'canal_entrada', 'indfall',\n",
    "                    'cod_prov', 'nomprov', 'ind_actividad_cliente', 'renta', 'segmento']"
   ]
  },
  {
   "cell_type": "code",
   "execution_count": 13,
   "metadata": {},
   "outputs": [],
   "source": [
    "candidates_for_train = candidates_for_train.melt(id_vars=feature_columns, var_name='item_name', value_name='target')\n",
    "\n",
    "# Оставлю только взаимодействия, где target = 1\n",
    "candidates_for_train = candidates_for_train[candidates_for_train['target'] == 1]"
   ]
  },
  {
   "cell_type": "code",
   "execution_count": 14,
   "metadata": {},
   "outputs": [
    {
     "name": "stdout",
     "output_type": "stream",
     "text": [
      "<class 'pandas.core.frame.DataFrame'>\n",
      "Index: 1240199 entries, 17761 to 21653939\n",
      "Data columns (total 23 columns):\n",
      " #   Column                 Non-Null Count    Dtype         \n",
      "---  ------                 --------------    -----         \n",
      " 0   fecha_dato             1240199 non-null  datetime64[ns]\n",
      " 1   ncodpers               1240199 non-null  int64         \n",
      " 2   ind_empleado           1240199 non-null  object        \n",
      " 3   pais_residencia        1240199 non-null  object        \n",
      " 4   sexo                   1240199 non-null  object        \n",
      " 5   age                    1240199 non-null  int64         \n",
      " 6   fecha_alta             1240199 non-null  datetime64[ns]\n",
      " 7   ind_nuevo              1240199 non-null  float64       \n",
      " 8   antiguedad             1240199 non-null  int64         \n",
      " 9   indrel                 1240199 non-null  float64       \n",
      " 10  indrel_1mes            1240199 non-null  object        \n",
      " 11  tiprel_1mes            1240199 non-null  object        \n",
      " 12  indresi                1240199 non-null  object        \n",
      " 13  indext                 1240199 non-null  object        \n",
      " 14  canal_entrada          1240199 non-null  object        \n",
      " 15  indfall                1240199 non-null  object        \n",
      " 16  cod_prov               1240199 non-null  float64       \n",
      " 17  nomprov                1240199 non-null  object        \n",
      " 18  ind_actividad_cliente  1240199 non-null  float64       \n",
      " 19  renta                  1240199 non-null  float64       \n",
      " 20  segmento               1240199 non-null  object        \n",
      " 21  item_name              1240199 non-null  object        \n",
      " 22  target                 1240199 non-null  bool          \n",
      "dtypes: bool(1), datetime64[ns](2), float64(5), int64(3), object(12)\n",
      "memory usage: 218.8+ MB\n"
     ]
    }
   ],
   "source": [
    "candidates_for_train.info()"
   ]
  },
  {
   "cell_type": "code",
   "execution_count": 15,
   "metadata": {},
   "outputs": [],
   "source": [
    "candidates_for_train = als_recommendations.merge(candidates_for_train, on=[\"ncodpers\", \"item_name\"], how=\"left\")\n",
    "candidates_for_train[\"target\"] = candidates_for_train[\"target\"].fillna(0).astype(\"int\")"
   ]
  },
  {
   "cell_type": "code",
   "execution_count": 16,
   "metadata": {},
   "outputs": [
    {
     "data": {
      "text/html": [
       "<div>\n",
       "<style scoped>\n",
       "    .dataframe tbody tr th:only-of-type {\n",
       "        vertical-align: middle;\n",
       "    }\n",
       "\n",
       "    .dataframe tbody tr th {\n",
       "        vertical-align: top;\n",
       "    }\n",
       "\n",
       "    .dataframe thead th {\n",
       "        text-align: right;\n",
       "    }\n",
       "</style>\n",
       "<table border=\"1\" class=\"dataframe\">\n",
       "  <thead>\n",
       "    <tr style=\"text-align: right;\">\n",
       "      <th></th>\n",
       "      <th>user_id_enc</th>\n",
       "      <th>item_id</th>\n",
       "      <th>score</th>\n",
       "      <th>item_name</th>\n",
       "      <th>ncodpers</th>\n",
       "      <th>fecha_dato</th>\n",
       "      <th>ind_empleado</th>\n",
       "      <th>pais_residencia</th>\n",
       "      <th>sexo</th>\n",
       "      <th>age</th>\n",
       "      <th>...</th>\n",
       "      <th>indresi</th>\n",
       "      <th>indext</th>\n",
       "      <th>canal_entrada</th>\n",
       "      <th>indfall</th>\n",
       "      <th>cod_prov</th>\n",
       "      <th>nomprov</th>\n",
       "      <th>ind_actividad_cliente</th>\n",
       "      <th>renta</th>\n",
       "      <th>segmento</th>\n",
       "      <th>target</th>\n",
       "    </tr>\n",
       "  </thead>\n",
       "  <tbody>\n",
       "    <tr>\n",
       "      <th>0</th>\n",
       "      <td>0</td>\n",
       "      <td>2</td>\n",
       "      <td>1.013371</td>\n",
       "      <td>ind_cco_fin_ult1</td>\n",
       "      <td>15889</td>\n",
       "      <td>2016-01-28</td>\n",
       "      <td>F</td>\n",
       "      <td>ES</td>\n",
       "      <td>V</td>\n",
       "      <td>56.0</td>\n",
       "      <td>...</td>\n",
       "      <td>S</td>\n",
       "      <td>N</td>\n",
       "      <td>KAT</td>\n",
       "      <td>N</td>\n",
       "      <td>28.0</td>\n",
       "      <td>MADRID</td>\n",
       "      <td>1.0</td>\n",
       "      <td>326124.9</td>\n",
       "      <td>TOP</td>\n",
       "      <td>1</td>\n",
       "    </tr>\n",
       "    <tr>\n",
       "      <th>1</th>\n",
       "      <td>0</td>\n",
       "      <td>8</td>\n",
       "      <td>1.000471</td>\n",
       "      <td>ind_ctpp_fin_ult1</td>\n",
       "      <td>15889</td>\n",
       "      <td>2016-01-28</td>\n",
       "      <td>F</td>\n",
       "      <td>ES</td>\n",
       "      <td>V</td>\n",
       "      <td>56.0</td>\n",
       "      <td>...</td>\n",
       "      <td>S</td>\n",
       "      <td>N</td>\n",
       "      <td>KAT</td>\n",
       "      <td>N</td>\n",
       "      <td>28.0</td>\n",
       "      <td>MADRID</td>\n",
       "      <td>1.0</td>\n",
       "      <td>326124.9</td>\n",
       "      <td>TOP</td>\n",
       "      <td>1</td>\n",
       "    </tr>\n",
       "    <tr>\n",
       "      <th>2</th>\n",
       "      <td>0</td>\n",
       "      <td>18</td>\n",
       "      <td>1.000344</td>\n",
       "      <td>ind_tjcr_fin_ult1</td>\n",
       "      <td>15889</td>\n",
       "      <td>2016-01-28</td>\n",
       "      <td>F</td>\n",
       "      <td>ES</td>\n",
       "      <td>V</td>\n",
       "      <td>56.0</td>\n",
       "      <td>...</td>\n",
       "      <td>S</td>\n",
       "      <td>N</td>\n",
       "      <td>KAT</td>\n",
       "      <td>N</td>\n",
       "      <td>28.0</td>\n",
       "      <td>MADRID</td>\n",
       "      <td>1.0</td>\n",
       "      <td>326124.9</td>\n",
       "      <td>TOP</td>\n",
       "      <td>1</td>\n",
       "    </tr>\n",
       "    <tr>\n",
       "      <th>3</th>\n",
       "      <td>0</td>\n",
       "      <td>19</td>\n",
       "      <td>1.000204</td>\n",
       "      <td>ind_valo_fin_ult1</td>\n",
       "      <td>15889</td>\n",
       "      <td>2016-01-28</td>\n",
       "      <td>F</td>\n",
       "      <td>ES</td>\n",
       "      <td>V</td>\n",
       "      <td>56.0</td>\n",
       "      <td>...</td>\n",
       "      <td>S</td>\n",
       "      <td>N</td>\n",
       "      <td>KAT</td>\n",
       "      <td>N</td>\n",
       "      <td>28.0</td>\n",
       "      <td>MADRID</td>\n",
       "      <td>1.0</td>\n",
       "      <td>326124.9</td>\n",
       "      <td>TOP</td>\n",
       "      <td>1</td>\n",
       "    </tr>\n",
       "    <tr>\n",
       "      <th>4</th>\n",
       "      <td>0</td>\n",
       "      <td>0</td>\n",
       "      <td>0.000625</td>\n",
       "      <td>ind_ahor_fin_ult1</td>\n",
       "      <td>15889</td>\n",
       "      <td>NaT</td>\n",
       "      <td>NaN</td>\n",
       "      <td>NaN</td>\n",
       "      <td>NaN</td>\n",
       "      <td>NaN</td>\n",
       "      <td>...</td>\n",
       "      <td>NaN</td>\n",
       "      <td>NaN</td>\n",
       "      <td>NaN</td>\n",
       "      <td>NaN</td>\n",
       "      <td>NaN</td>\n",
       "      <td>NaN</td>\n",
       "      <td>NaN</td>\n",
       "      <td>NaN</td>\n",
       "      <td>NaN</td>\n",
       "      <td>0</td>\n",
       "    </tr>\n",
       "    <tr>\n",
       "      <th>...</th>\n",
       "      <td>...</td>\n",
       "      <td>...</td>\n",
       "      <td>...</td>\n",
       "      <td>...</td>\n",
       "      <td>...</td>\n",
       "      <td>...</td>\n",
       "      <td>...</td>\n",
       "      <td>...</td>\n",
       "      <td>...</td>\n",
       "      <td>...</td>\n",
       "      <td>...</td>\n",
       "      <td>...</td>\n",
       "      <td>...</td>\n",
       "      <td>...</td>\n",
       "      <td>...</td>\n",
       "      <td>...</td>\n",
       "      <td>...</td>\n",
       "      <td>...</td>\n",
       "      <td>...</td>\n",
       "      <td>...</td>\n",
       "      <td>...</td>\n",
       "    </tr>\n",
       "    <tr>\n",
       "      <th>8937055</th>\n",
       "      <td>893705</td>\n",
       "      <td>4</td>\n",
       "      <td>0.000000</td>\n",
       "      <td>ind_cno_fin_ult1</td>\n",
       "      <td>1520376</td>\n",
       "      <td>NaT</td>\n",
       "      <td>NaN</td>\n",
       "      <td>NaN</td>\n",
       "      <td>NaN</td>\n",
       "      <td>NaN</td>\n",
       "      <td>...</td>\n",
       "      <td>NaN</td>\n",
       "      <td>NaN</td>\n",
       "      <td>NaN</td>\n",
       "      <td>NaN</td>\n",
       "      <td>NaN</td>\n",
       "      <td>NaN</td>\n",
       "      <td>NaN</td>\n",
       "      <td>NaN</td>\n",
       "      <td>NaN</td>\n",
       "      <td>0</td>\n",
       "    </tr>\n",
       "    <tr>\n",
       "      <th>8937056</th>\n",
       "      <td>893705</td>\n",
       "      <td>3</td>\n",
       "      <td>0.000000</td>\n",
       "      <td>ind_cder_fin_ult1</td>\n",
       "      <td>1520376</td>\n",
       "      <td>NaT</td>\n",
       "      <td>NaN</td>\n",
       "      <td>NaN</td>\n",
       "      <td>NaN</td>\n",
       "      <td>NaN</td>\n",
       "      <td>...</td>\n",
       "      <td>NaN</td>\n",
       "      <td>NaN</td>\n",
       "      <td>NaN</td>\n",
       "      <td>NaN</td>\n",
       "      <td>NaN</td>\n",
       "      <td>NaN</td>\n",
       "      <td>NaN</td>\n",
       "      <td>NaN</td>\n",
       "      <td>NaN</td>\n",
       "      <td>0</td>\n",
       "    </tr>\n",
       "    <tr>\n",
       "      <th>8937057</th>\n",
       "      <td>893705</td>\n",
       "      <td>2</td>\n",
       "      <td>0.000000</td>\n",
       "      <td>ind_cco_fin_ult1</td>\n",
       "      <td>1520376</td>\n",
       "      <td>NaT</td>\n",
       "      <td>NaN</td>\n",
       "      <td>NaN</td>\n",
       "      <td>NaN</td>\n",
       "      <td>NaN</td>\n",
       "      <td>...</td>\n",
       "      <td>NaN</td>\n",
       "      <td>NaN</td>\n",
       "      <td>NaN</td>\n",
       "      <td>NaN</td>\n",
       "      <td>NaN</td>\n",
       "      <td>NaN</td>\n",
       "      <td>NaN</td>\n",
       "      <td>NaN</td>\n",
       "      <td>NaN</td>\n",
       "      <td>0</td>\n",
       "    </tr>\n",
       "    <tr>\n",
       "      <th>8937058</th>\n",
       "      <td>893705</td>\n",
       "      <td>1</td>\n",
       "      <td>0.000000</td>\n",
       "      <td>ind_aval_fin_ult1</td>\n",
       "      <td>1520376</td>\n",
       "      <td>NaT</td>\n",
       "      <td>NaN</td>\n",
       "      <td>NaN</td>\n",
       "      <td>NaN</td>\n",
       "      <td>NaN</td>\n",
       "      <td>...</td>\n",
       "      <td>NaN</td>\n",
       "      <td>NaN</td>\n",
       "      <td>NaN</td>\n",
       "      <td>NaN</td>\n",
       "      <td>NaN</td>\n",
       "      <td>NaN</td>\n",
       "      <td>NaN</td>\n",
       "      <td>NaN</td>\n",
       "      <td>NaN</td>\n",
       "      <td>0</td>\n",
       "    </tr>\n",
       "    <tr>\n",
       "      <th>8937059</th>\n",
       "      <td>893705</td>\n",
       "      <td>0</td>\n",
       "      <td>0.000000</td>\n",
       "      <td>ind_ahor_fin_ult1</td>\n",
       "      <td>1520376</td>\n",
       "      <td>NaT</td>\n",
       "      <td>NaN</td>\n",
       "      <td>NaN</td>\n",
       "      <td>NaN</td>\n",
       "      <td>NaN</td>\n",
       "      <td>...</td>\n",
       "      <td>NaN</td>\n",
       "      <td>NaN</td>\n",
       "      <td>NaN</td>\n",
       "      <td>NaN</td>\n",
       "      <td>NaN</td>\n",
       "      <td>NaN</td>\n",
       "      <td>NaN</td>\n",
       "      <td>NaN</td>\n",
       "      <td>NaN</td>\n",
       "      <td>0</td>\n",
       "    </tr>\n",
       "  </tbody>\n",
       "</table>\n",
       "<p>8937060 rows × 26 columns</p>\n",
       "</div>"
      ],
      "text/plain": [
       "         user_id_enc  item_id     score          item_name  ncodpers   \n",
       "0                  0        2  1.013371   ind_cco_fin_ult1     15889  \\\n",
       "1                  0        8  1.000471  ind_ctpp_fin_ult1     15889   \n",
       "2                  0       18  1.000344  ind_tjcr_fin_ult1     15889   \n",
       "3                  0       19  1.000204  ind_valo_fin_ult1     15889   \n",
       "4                  0        0  0.000625  ind_ahor_fin_ult1     15889   \n",
       "...              ...      ...       ...                ...       ...   \n",
       "8937055       893705        4  0.000000   ind_cno_fin_ult1   1520376   \n",
       "8937056       893705        3  0.000000  ind_cder_fin_ult1   1520376   \n",
       "8937057       893705        2  0.000000   ind_cco_fin_ult1   1520376   \n",
       "8937058       893705        1  0.000000  ind_aval_fin_ult1   1520376   \n",
       "8937059       893705        0  0.000000  ind_ahor_fin_ult1   1520376   \n",
       "\n",
       "        fecha_dato ind_empleado pais_residencia sexo   age  ... indresi   \n",
       "0       2016-01-28            F              ES    V  56.0  ...       S  \\\n",
       "1       2016-01-28            F              ES    V  56.0  ...       S   \n",
       "2       2016-01-28            F              ES    V  56.0  ...       S   \n",
       "3       2016-01-28            F              ES    V  56.0  ...       S   \n",
       "4              NaT          NaN             NaN  NaN   NaN  ...     NaN   \n",
       "...            ...          ...             ...  ...   ...  ...     ...   \n",
       "8937055        NaT          NaN             NaN  NaN   NaN  ...     NaN   \n",
       "8937056        NaT          NaN             NaN  NaN   NaN  ...     NaN   \n",
       "8937057        NaT          NaN             NaN  NaN   NaN  ...     NaN   \n",
       "8937058        NaT          NaN             NaN  NaN   NaN  ...     NaN   \n",
       "8937059        NaT          NaN             NaN  NaN   NaN  ...     NaN   \n",
       "\n",
       "         indext  canal_entrada  indfall cod_prov nomprov   \n",
       "0             N            KAT        N     28.0  MADRID  \\\n",
       "1             N            KAT        N     28.0  MADRID   \n",
       "2             N            KAT        N     28.0  MADRID   \n",
       "3             N            KAT        N     28.0  MADRID   \n",
       "4           NaN            NaN      NaN      NaN     NaN   \n",
       "...         ...            ...      ...      ...     ...   \n",
       "8937055     NaN            NaN      NaN      NaN     NaN   \n",
       "8937056     NaN            NaN      NaN      NaN     NaN   \n",
       "8937057     NaN            NaN      NaN      NaN     NaN   \n",
       "8937058     NaN            NaN      NaN      NaN     NaN   \n",
       "8937059     NaN            NaN      NaN      NaN     NaN   \n",
       "\n",
       "        ind_actividad_cliente     renta segmento target  \n",
       "0                         1.0  326124.9      TOP      1  \n",
       "1                         1.0  326124.9      TOP      1  \n",
       "2                         1.0  326124.9      TOP      1  \n",
       "3                         1.0  326124.9      TOP      1  \n",
       "4                         NaN       NaN      NaN      0  \n",
       "...                       ...       ...      ...    ...  \n",
       "8937055                   NaN       NaN      NaN      0  \n",
       "8937056                   NaN       NaN      NaN      0  \n",
       "8937057                   NaN       NaN      NaN      0  \n",
       "8937058                   NaN       NaN      NaN      0  \n",
       "8937059                   NaN       NaN      NaN      0  \n",
       "\n",
       "[8937060 rows x 26 columns]"
      ]
     },
     "execution_count": 16,
     "metadata": {},
     "output_type": "execute_result"
    }
   ],
   "source": [
    "candidates_for_train"
   ]
  },
  {
   "cell_type": "markdown",
   "metadata": {},
   "source": [
    "Необходимо заполнить пропуски в таблице"
   ]
  },
  {
   "cell_type": "code",
   "execution_count": 17,
   "metadata": {},
   "outputs": [],
   "source": [
    "# Вынесу уникальные взаимодействия в отдельную таблицу\n",
    "interactions = candidates_for_train[['item_id', 'score', 'item_name', 'target']]"
   ]
  },
  {
   "cell_type": "code",
   "execution_count": 18,
   "metadata": {},
   "outputs": [],
   "source": [
    "# Заполню пропуски в таблице\n",
    "candidates_for_train.fillna(candidates_for_train.groupby(\"ncodpers\").transform(\"first\"), inplace=True)"
   ]
  },
  {
   "cell_type": "code",
   "execution_count": 19,
   "metadata": {},
   "outputs": [],
   "source": [
    "# Верну в таблицу уникальные значения\n",
    "candidates_for_train['item_id'] = interactions['item_id']\n",
    "candidates_for_train['score'] = interactions['score']\n",
    "candidates_for_train['item_name'] = interactions['item_name']\n",
    "candidates_for_train['target'] = interactions['target']"
   ]
  },
  {
   "cell_type": "code",
   "execution_count": 20,
   "metadata": {},
   "outputs": [
    {
     "data": {
      "text/plain": [
       "user_id_enc                    0\n",
       "item_id                        0\n",
       "score                          0\n",
       "item_name                      0\n",
       "ncodpers                       0\n",
       "fecha_dato               2272390\n",
       "ind_empleado             2272390\n",
       "pais_residencia          2272390\n",
       "sexo                     2272390\n",
       "age                      2272390\n",
       "fecha_alta               2272390\n",
       "ind_nuevo                2272390\n",
       "antiguedad               2272390\n",
       "indrel                   2272390\n",
       "indrel_1mes              2272390\n",
       "tiprel_1mes              2272390\n",
       "indresi                  2272390\n",
       "indext                   2272390\n",
       "canal_entrada            2272390\n",
       "indfall                  2272390\n",
       "cod_prov                 2272390\n",
       "nomprov                  2272390\n",
       "ind_actividad_cliente    2272390\n",
       "renta                    2272390\n",
       "segmento                 2272390\n",
       "target                         0\n",
       "dtype: int64"
      ]
     },
     "execution_count": 20,
     "metadata": {},
     "output_type": "execute_result"
    }
   ],
   "source": [
    "candidates_for_train.isna().sum()"
   ]
  },
  {
   "cell_type": "markdown",
   "metadata": {},
   "source": [
    "В таблице ещё приутствуют пропущенные значения. Это данные о пользователях, которые не взаимодействовали с продуктами в новой тренировочной выборке, но для них составлены рекомендации. Удалю строки с этими пользователями, так как они не отличаются от новых клиенов."
   ]
  },
  {
   "cell_type": "code",
   "execution_count": 21,
   "metadata": {},
   "outputs": [],
   "source": [
    "candidates_for_train.dropna(inplace=True)"
   ]
  },
  {
   "cell_type": "code",
   "execution_count": 22,
   "metadata": {},
   "outputs": [],
   "source": [
    "candidates_for_train.to_parquet(\"models_and_recommendations/candidates_for_train.parquet\")"
   ]
  },
  {
   "cell_type": "markdown",
   "metadata": {},
   "source": [
    "##### rank"
   ]
  },
  {
   "cell_type": "markdown",
   "metadata": {},
   "source": [
    "Тут сделаю тоже самое, что и с train."
   ]
  },
  {
   "cell_type": "code",
   "execution_count": 23,
   "metadata": {},
   "outputs": [],
   "source": [
    "test_users = events_labels_rank.drop_duplicates(subset='ncodpers', keep='first')\n",
    "\n",
    "test_users = test_users[['fecha_dato', 'ncodpers', 'ind_empleado', 'pais_residencia', 'sexo',\n",
    "                            'age', 'fecha_alta', 'ind_nuevo', 'antiguedad', 'indrel', 'indrel_1mes',\n",
    "                            'tiprel_1mes', 'indresi', 'indext', 'canal_entrada', 'indfall',\n",
    "                            'cod_prov', 'nomprov', 'ind_actividad_cliente', 'renta', 'segmento']]"
   ]
  },
  {
   "cell_type": "code",
   "execution_count": 24,
   "metadata": {},
   "outputs": [],
   "source": [
    "test_targets = events_labels_rank[['ncodpers', 'ind_ahor_fin_ult1', 'ind_aval_fin_ult1', 'ind_cco_fin_ult1',\n",
    "                                    'ind_cder_fin_ult1', 'ind_cno_fin_ult1', 'ind_ctju_fin_ult1',\n",
    "                                    'ind_ctma_fin_ult1', 'ind_ctop_fin_ult1', 'ind_ctpp_fin_ult1',\n",
    "                                    'ind_deco_fin_ult1', 'ind_deme_fin_ult1', 'ind_dela_fin_ult1',\n",
    "                                    'ind_ecue_fin_ult1', 'ind_fond_fin_ult1', 'ind_hip_fin_ult1',\n",
    "                                    'ind_plan_fin_ult1', 'ind_pres_fin_ult1', 'ind_reca_fin_ult1',\n",
    "                                    'ind_tjcr_fin_ult1', 'ind_valo_fin_ult1', 'ind_viv_fin_ult1',\n",
    "                                    'ind_nomina_ult1', 'ind_nom_pens_ult1', 'ind_recibo_ult1']]\n",
    "\n",
    "test_targets = test_targets.groupby(\"ncodpers\").any().reset_index()"
   ]
  },
  {
   "cell_type": "code",
   "execution_count": 25,
   "metadata": {},
   "outputs": [],
   "source": [
    "candidates_to_rank = test_users.merge(test_targets, on=[\"ncodpers\"], how=\"left\")"
   ]
  },
  {
   "cell_type": "code",
   "execution_count": 26,
   "metadata": {},
   "outputs": [],
   "source": [
    "candidates_to_rank = candidates_to_rank.melt(id_vars=feature_columns, var_name='item_name', value_name='target')\n",
    "\n",
    "candidates_to_rank = candidates_to_rank[candidates_to_rank['target'] == 1]"
   ]
  },
  {
   "cell_type": "code",
   "execution_count": 27,
   "metadata": {},
   "outputs": [],
   "source": [
    "candidates_to_rank = als_recommendations.merge(candidates_to_rank, on=[\"ncodpers\", \"item_name\"], how=\"left\")\n",
    "candidates_to_rank[\"target\"] = candidates_to_rank[\"target\"].fillna(0).astype(\"int\")"
   ]
  },
  {
   "cell_type": "code",
   "execution_count": 28,
   "metadata": {},
   "outputs": [],
   "source": [
    "interactions = candidates_to_rank[['item_id', 'score', 'item_name', 'target']]"
   ]
  },
  {
   "cell_type": "code",
   "execution_count": 29,
   "metadata": {},
   "outputs": [],
   "source": [
    "candidates_to_rank.fillna(candidates_to_rank.groupby(\"ncodpers\").transform(\"first\"), inplace=True)"
   ]
  },
  {
   "cell_type": "code",
   "execution_count": 30,
   "metadata": {},
   "outputs": [],
   "source": [
    "candidates_to_rank['item_id'] = interactions['item_id']\n",
    "candidates_to_rank['score'] = interactions['score']\n",
    "candidates_to_rank['item_name'] = interactions['item_name']\n",
    "candidates_to_rank['target'] = interactions['target']"
   ]
  },
  {
   "cell_type": "code",
   "execution_count": 31,
   "metadata": {},
   "outputs": [],
   "source": [
    "candidates_to_rank.dropna(inplace=True)"
   ]
  },
  {
   "cell_type": "code",
   "execution_count": 32,
   "metadata": {},
   "outputs": [],
   "source": [
    "candidates_to_rank.to_parquet(\"models_and_recommendations/candidates_to_rank.parquet\")"
   ]
  },
  {
   "cell_type": "markdown",
   "metadata": {},
   "source": [
    "#### Обучение ранжирующей модели"
   ]
  },
  {
   "cell_type": "code",
   "execution_count": 4,
   "metadata": {},
   "outputs": [],
   "source": [
    "candidates_for_train = pd.read_parquet(\"models_and_recommendations/candidates_for_train.parquet\")\n",
    "candidates_to_rank = pd.read_parquet(\"models_and_recommendations/candidates_to_rank.parquet\")"
   ]
  },
  {
   "cell_type": "code",
   "execution_count": 5,
   "metadata": {},
   "outputs": [
    {
     "name": "stdout",
     "output_type": "stream",
     "text": [
      "0:\tlearn: 0.4706466\ttotal: 4.64s\tremaining: 15m 23s\n",
      "20:\tlearn: 0.0736793\ttotal: 1m 13s\tremaining: 10m 26s\n",
      "40:\tlearn: 0.0686251\ttotal: 2m 25s\tremaining: 9m 25s\n",
      "60:\tlearn: 0.0660473\ttotal: 3m 37s\tremaining: 8m 16s\n",
      "80:\tlearn: 0.0643975\ttotal: 4m 50s\tremaining: 7m 7s\n",
      "100:\tlearn: 0.0633601\ttotal: 6m 2s\tremaining: 5m 54s\n",
      "120:\tlearn: 0.0624198\ttotal: 7m 13s\tremaining: 4m 43s\n",
      "140:\tlearn: 0.0616961\ttotal: 8m 25s\tremaining: 3m 31s\n",
      "160:\tlearn: 0.0609904\ttotal: 9m 36s\tremaining: 2m 19s\n",
      "180:\tlearn: 0.0604997\ttotal: 10m 44s\tremaining: 1m 7s\n",
      "199:\tlearn: 0.0598259\ttotal: 11m 52s\tremaining: 0us\n"
     ]
    },
    {
     "data": {
      "text/plain": [
       "<catboost.core.CatBoostClassifier at 0x7f64380b6080>"
      ]
     },
     "execution_count": 5,
     "metadata": {},
     "output_type": "execute_result"
    }
   ],
   "source": [
    "# задаём имена колонок признаков и таргета\n",
    "features = ['item_id', 'score','ncodpers', 'ind_empleado', 'pais_residencia', 'sexo',\n",
    "            'age', 'ind_nuevo', 'antiguedad', 'indrel', 'indrel_1mes',\n",
    "            'tiprel_1mes', 'indresi', 'indext', 'canal_entrada', 'indfall',\n",
    "            'cod_prov', 'nomprov', 'ind_actividad_cliente', 'renta', 'segmento']\n",
    "cat_features = ['ind_empleado', 'pais_residencia', 'sexo', 'indrel_1mes',\n",
    "                 'tiprel_1mes', 'indresi', 'indext', 'canal_entrada', 'indfall', 'nomprov', 'segmento']\n",
    "target = 'target'\n",
    "\n",
    "# создаём Pool\n",
    "train_data = Pool(\n",
    "    data=candidates_for_train[features], \n",
    "    cat_features=cat_features,\n",
    "    label=candidates_for_train[target])\n",
    "\n",
    "# инициализируем модель CatBoostClassifier\n",
    "cb_model = CatBoostClassifier(\n",
    "    iterations=200,\n",
    "    learning_rate=0.1,\n",
    "    depth=4,\n",
    "    loss_function='Logloss',\n",
    "    verbose=20,\n",
    "    random_seed=0,\n",
    ")\n",
    "\n",
    "# тренируем модель\n",
    "cb_model.fit(train_data)"
   ]
  },
  {
   "cell_type": "code",
   "execution_count": 6,
   "metadata": {},
   "outputs": [],
   "source": [
    "inference_data = Pool(\n",
    "    data=candidates_to_rank[features],\n",
    "    cat_features=cat_features,\n",
    "    label=candidates_to_rank[target])\n",
    "predictions = cb_model.predict(inference_data)\n",
    "\n",
    "candidates_to_rank[\"cb_score\"] = predictions\n",
    "\n",
    "# для каждого пользователя проставим rank, начиная с 1 — это максимальный cb_score\n",
    "candidates_to_rank = candidates_to_rank.sort_values([\"ncodpers\", \"cb_score\"], ascending=[True, False])\n",
    "candidates_to_rank[\"rank\"] = candidates_to_rank.groupby(\"ncodpers\").cumcount() + 1\n",
    "\n",
    "max_recommendations_per_user = 5\n",
    "final_recommendations = candidates_to_rank.query(\"rank <= @max_recommendations_per_user\")"
   ]
  },
  {
   "cell_type": "code",
   "execution_count": 7,
   "metadata": {},
   "outputs": [
    {
     "data": {
      "text/plain": [
       "661370"
      ]
     },
     "execution_count": 7,
     "metadata": {},
     "output_type": "execute_result"
    }
   ],
   "source": [
    "# количество пользователей попало в final_recommendations\n",
    "final_recommendations['ncodpers'].nunique()"
   ]
  },
  {
   "cell_type": "code",
   "execution_count": 8,
   "metadata": {},
   "outputs": [],
   "source": [
    "# сохранение финальных рекомендаций\n",
    "final_recommendations.to_parquet(\"models_and_recommendations/recommendations.parquet\")"
   ]
  },
  {
   "cell_type": "code",
   "execution_count": 9,
   "metadata": {},
   "outputs": [
    {
     "data": {
      "text/plain": [
       "['models_and_recommendations/cb_model.joblib']"
      ]
     },
     "execution_count": 9,
     "metadata": {},
     "output_type": "execute_result"
    }
   ],
   "source": [
    "# сохраниние модели catboost\n",
    "joblib.dump(cb_model, 'models_and_recommendations/cb_model.joblib')"
   ]
  },
  {
   "cell_type": "markdown",
   "metadata": {},
   "source": [
    "### Оценка качества"
   ]
  },
  {
   "cell_type": "code",
   "execution_count": 10,
   "metadata": {},
   "outputs": [],
   "source": [
    "\n",
    "recommendations = pd.read_parquet('models_and_recommendations/recommendations.parquet')"
   ]
  },
  {
   "cell_type": "code",
   "execution_count": 11,
   "metadata": {},
   "outputs": [
    {
     "data": {
      "text/html": [
       "<div>\n",
       "<style scoped>\n",
       "    .dataframe tbody tr th:only-of-type {\n",
       "        vertical-align: middle;\n",
       "    }\n",
       "\n",
       "    .dataframe tbody tr th {\n",
       "        vertical-align: top;\n",
       "    }\n",
       "\n",
       "    .dataframe thead th {\n",
       "        text-align: right;\n",
       "    }\n",
       "</style>\n",
       "<table border=\"1\" class=\"dataframe\">\n",
       "  <thead>\n",
       "    <tr style=\"text-align: right;\">\n",
       "      <th></th>\n",
       "      <th>user_id_enc</th>\n",
       "      <th>item_id</th>\n",
       "      <th>score</th>\n",
       "      <th>item_name</th>\n",
       "      <th>ncodpers</th>\n",
       "      <th>fecha_dato</th>\n",
       "      <th>ind_empleado</th>\n",
       "      <th>pais_residencia</th>\n",
       "      <th>sexo</th>\n",
       "      <th>age</th>\n",
       "      <th>...</th>\n",
       "      <th>canal_entrada</th>\n",
       "      <th>indfall</th>\n",
       "      <th>cod_prov</th>\n",
       "      <th>nomprov</th>\n",
       "      <th>ind_actividad_cliente</th>\n",
       "      <th>renta</th>\n",
       "      <th>segmento</th>\n",
       "      <th>target</th>\n",
       "      <th>cb_score</th>\n",
       "      <th>rank</th>\n",
       "    </tr>\n",
       "  </thead>\n",
       "  <tbody>\n",
       "    <tr>\n",
       "      <th>0</th>\n",
       "      <td>0</td>\n",
       "      <td>2</td>\n",
       "      <td>1.013371</td>\n",
       "      <td>ind_cco_fin_ult1</td>\n",
       "      <td>15889</td>\n",
       "      <td>2016-04-28</td>\n",
       "      <td>F</td>\n",
       "      <td>ES</td>\n",
       "      <td>V</td>\n",
       "      <td>56.0</td>\n",
       "      <td>...</td>\n",
       "      <td>KAT</td>\n",
       "      <td>N</td>\n",
       "      <td>28.0</td>\n",
       "      <td>MADRID</td>\n",
       "      <td>1.0</td>\n",
       "      <td>326124.9</td>\n",
       "      <td>TOP</td>\n",
       "      <td>1</td>\n",
       "      <td>1</td>\n",
       "      <td>1</td>\n",
       "    </tr>\n",
       "    <tr>\n",
       "      <th>1</th>\n",
       "      <td>0</td>\n",
       "      <td>8</td>\n",
       "      <td>1.000471</td>\n",
       "      <td>ind_ctpp_fin_ult1</td>\n",
       "      <td>15889</td>\n",
       "      <td>2016-04-28</td>\n",
       "      <td>F</td>\n",
       "      <td>ES</td>\n",
       "      <td>V</td>\n",
       "      <td>56.0</td>\n",
       "      <td>...</td>\n",
       "      <td>KAT</td>\n",
       "      <td>N</td>\n",
       "      <td>28.0</td>\n",
       "      <td>MADRID</td>\n",
       "      <td>1.0</td>\n",
       "      <td>326124.9</td>\n",
       "      <td>TOP</td>\n",
       "      <td>1</td>\n",
       "      <td>1</td>\n",
       "      <td>2</td>\n",
       "    </tr>\n",
       "    <tr>\n",
       "      <th>2</th>\n",
       "      <td>0</td>\n",
       "      <td>18</td>\n",
       "      <td>1.000344</td>\n",
       "      <td>ind_tjcr_fin_ult1</td>\n",
       "      <td>15889</td>\n",
       "      <td>2016-04-28</td>\n",
       "      <td>F</td>\n",
       "      <td>ES</td>\n",
       "      <td>V</td>\n",
       "      <td>56.0</td>\n",
       "      <td>...</td>\n",
       "      <td>KAT</td>\n",
       "      <td>N</td>\n",
       "      <td>28.0</td>\n",
       "      <td>MADRID</td>\n",
       "      <td>1.0</td>\n",
       "      <td>326124.9</td>\n",
       "      <td>TOP</td>\n",
       "      <td>1</td>\n",
       "      <td>1</td>\n",
       "      <td>3</td>\n",
       "    </tr>\n",
       "    <tr>\n",
       "      <th>3</th>\n",
       "      <td>0</td>\n",
       "      <td>19</td>\n",
       "      <td>1.000204</td>\n",
       "      <td>ind_valo_fin_ult1</td>\n",
       "      <td>15889</td>\n",
       "      <td>2016-04-28</td>\n",
       "      <td>F</td>\n",
       "      <td>ES</td>\n",
       "      <td>V</td>\n",
       "      <td>56.0</td>\n",
       "      <td>...</td>\n",
       "      <td>KAT</td>\n",
       "      <td>N</td>\n",
       "      <td>28.0</td>\n",
       "      <td>MADRID</td>\n",
       "      <td>1.0</td>\n",
       "      <td>326124.9</td>\n",
       "      <td>TOP</td>\n",
       "      <td>1</td>\n",
       "      <td>1</td>\n",
       "      <td>4</td>\n",
       "    </tr>\n",
       "    <tr>\n",
       "      <th>4</th>\n",
       "      <td>0</td>\n",
       "      <td>0</td>\n",
       "      <td>0.000625</td>\n",
       "      <td>ind_ahor_fin_ult1</td>\n",
       "      <td>15889</td>\n",
       "      <td>2016-04-28</td>\n",
       "      <td>F</td>\n",
       "      <td>ES</td>\n",
       "      <td>V</td>\n",
       "      <td>56.0</td>\n",
       "      <td>...</td>\n",
       "      <td>KAT</td>\n",
       "      <td>N</td>\n",
       "      <td>28.0</td>\n",
       "      <td>MADRID</td>\n",
       "      <td>1.0</td>\n",
       "      <td>326124.9</td>\n",
       "      <td>TOP</td>\n",
       "      <td>0</td>\n",
       "      <td>0</td>\n",
       "      <td>5</td>\n",
       "    </tr>\n",
       "    <tr>\n",
       "      <th>...</th>\n",
       "      <td>...</td>\n",
       "      <td>...</td>\n",
       "      <td>...</td>\n",
       "      <td>...</td>\n",
       "      <td>...</td>\n",
       "      <td>...</td>\n",
       "      <td>...</td>\n",
       "      <td>...</td>\n",
       "      <td>...</td>\n",
       "      <td>...</td>\n",
       "      <td>...</td>\n",
       "      <td>...</td>\n",
       "      <td>...</td>\n",
       "      <td>...</td>\n",
       "      <td>...</td>\n",
       "      <td>...</td>\n",
       "      <td>...</td>\n",
       "      <td>...</td>\n",
       "      <td>...</td>\n",
       "      <td>...</td>\n",
       "      <td>...</td>\n",
       "    </tr>\n",
       "    <tr>\n",
       "      <th>8937027</th>\n",
       "      <td>893702</td>\n",
       "      <td>2</td>\n",
       "      <td>0.000000</td>\n",
       "      <td>ind_cco_fin_ult1</td>\n",
       "      <td>1520373</td>\n",
       "      <td>2016-04-28</td>\n",
       "      <td>N</td>\n",
       "      <td>ES</td>\n",
       "      <td>V</td>\n",
       "      <td>74.0</td>\n",
       "      <td>...</td>\n",
       "      <td>KHN</td>\n",
       "      <td>N</td>\n",
       "      <td>50.0</td>\n",
       "      <td>ZARAGOZA</td>\n",
       "      <td>1.0</td>\n",
       "      <td>101850.0</td>\n",
       "      <td>PARTICULARES</td>\n",
       "      <td>0</td>\n",
       "      <td>1</td>\n",
       "      <td>1</td>\n",
       "    </tr>\n",
       "    <tr>\n",
       "      <th>8937020</th>\n",
       "      <td>893702</td>\n",
       "      <td>9</td>\n",
       "      <td>0.000000</td>\n",
       "      <td>ind_deco_fin_ult1</td>\n",
       "      <td>1520373</td>\n",
       "      <td>2016-04-28</td>\n",
       "      <td>N</td>\n",
       "      <td>ES</td>\n",
       "      <td>V</td>\n",
       "      <td>74.0</td>\n",
       "      <td>...</td>\n",
       "      <td>KHN</td>\n",
       "      <td>N</td>\n",
       "      <td>50.0</td>\n",
       "      <td>ZARAGOZA</td>\n",
       "      <td>1.0</td>\n",
       "      <td>101850.0</td>\n",
       "      <td>PARTICULARES</td>\n",
       "      <td>0</td>\n",
       "      <td>0</td>\n",
       "      <td>2</td>\n",
       "    </tr>\n",
       "    <tr>\n",
       "      <th>8937021</th>\n",
       "      <td>893702</td>\n",
       "      <td>8</td>\n",
       "      <td>0.000000</td>\n",
       "      <td>ind_ctpp_fin_ult1</td>\n",
       "      <td>1520373</td>\n",
       "      <td>2016-04-28</td>\n",
       "      <td>N</td>\n",
       "      <td>ES</td>\n",
       "      <td>V</td>\n",
       "      <td>74.0</td>\n",
       "      <td>...</td>\n",
       "      <td>KHN</td>\n",
       "      <td>N</td>\n",
       "      <td>50.0</td>\n",
       "      <td>ZARAGOZA</td>\n",
       "      <td>1.0</td>\n",
       "      <td>101850.0</td>\n",
       "      <td>PARTICULARES</td>\n",
       "      <td>0</td>\n",
       "      <td>0</td>\n",
       "      <td>3</td>\n",
       "    </tr>\n",
       "    <tr>\n",
       "      <th>8937022</th>\n",
       "      <td>893702</td>\n",
       "      <td>7</td>\n",
       "      <td>0.000000</td>\n",
       "      <td>ind_ctop_fin_ult1</td>\n",
       "      <td>1520373</td>\n",
       "      <td>2016-04-28</td>\n",
       "      <td>N</td>\n",
       "      <td>ES</td>\n",
       "      <td>V</td>\n",
       "      <td>74.0</td>\n",
       "      <td>...</td>\n",
       "      <td>KHN</td>\n",
       "      <td>N</td>\n",
       "      <td>50.0</td>\n",
       "      <td>ZARAGOZA</td>\n",
       "      <td>1.0</td>\n",
       "      <td>101850.0</td>\n",
       "      <td>PARTICULARES</td>\n",
       "      <td>0</td>\n",
       "      <td>0</td>\n",
       "      <td>4</td>\n",
       "    </tr>\n",
       "    <tr>\n",
       "      <th>8937023</th>\n",
       "      <td>893702</td>\n",
       "      <td>6</td>\n",
       "      <td>0.000000</td>\n",
       "      <td>ind_ctma_fin_ult1</td>\n",
       "      <td>1520373</td>\n",
       "      <td>2016-04-28</td>\n",
       "      <td>N</td>\n",
       "      <td>ES</td>\n",
       "      <td>V</td>\n",
       "      <td>74.0</td>\n",
       "      <td>...</td>\n",
       "      <td>KHN</td>\n",
       "      <td>N</td>\n",
       "      <td>50.0</td>\n",
       "      <td>ZARAGOZA</td>\n",
       "      <td>1.0</td>\n",
       "      <td>101850.0</td>\n",
       "      <td>PARTICULARES</td>\n",
       "      <td>0</td>\n",
       "      <td>0</td>\n",
       "      <td>5</td>\n",
       "    </tr>\n",
       "  </tbody>\n",
       "</table>\n",
       "<p>3306850 rows × 28 columns</p>\n",
       "</div>"
      ],
      "text/plain": [
       "         user_id_enc  item_id     score          item_name  ncodpers   \n",
       "0                  0        2  1.013371   ind_cco_fin_ult1     15889  \\\n",
       "1                  0        8  1.000471  ind_ctpp_fin_ult1     15889   \n",
       "2                  0       18  1.000344  ind_tjcr_fin_ult1     15889   \n",
       "3                  0       19  1.000204  ind_valo_fin_ult1     15889   \n",
       "4                  0        0  0.000625  ind_ahor_fin_ult1     15889   \n",
       "...              ...      ...       ...                ...       ...   \n",
       "8937027       893702        2  0.000000   ind_cco_fin_ult1   1520373   \n",
       "8937020       893702        9  0.000000  ind_deco_fin_ult1   1520373   \n",
       "8937021       893702        8  0.000000  ind_ctpp_fin_ult1   1520373   \n",
       "8937022       893702        7  0.000000  ind_ctop_fin_ult1   1520373   \n",
       "8937023       893702        6  0.000000  ind_ctma_fin_ult1   1520373   \n",
       "\n",
       "        fecha_dato ind_empleado pais_residencia sexo   age  ... canal_entrada   \n",
       "0       2016-04-28            F              ES    V  56.0  ...           KAT  \\\n",
       "1       2016-04-28            F              ES    V  56.0  ...           KAT   \n",
       "2       2016-04-28            F              ES    V  56.0  ...           KAT   \n",
       "3       2016-04-28            F              ES    V  56.0  ...           KAT   \n",
       "4       2016-04-28            F              ES    V  56.0  ...           KAT   \n",
       "...            ...          ...             ...  ...   ...  ...           ...   \n",
       "8937027 2016-04-28            N              ES    V  74.0  ...           KHN   \n",
       "8937020 2016-04-28            N              ES    V  74.0  ...           KHN   \n",
       "8937021 2016-04-28            N              ES    V  74.0  ...           KHN   \n",
       "8937022 2016-04-28            N              ES    V  74.0  ...           KHN   \n",
       "8937023 2016-04-28            N              ES    V  74.0  ...           KHN   \n",
       "\n",
       "         indfall  cod_prov   nomprov ind_actividad_cliente     renta   \n",
       "0              N      28.0    MADRID                   1.0  326124.9  \\\n",
       "1              N      28.0    MADRID                   1.0  326124.9   \n",
       "2              N      28.0    MADRID                   1.0  326124.9   \n",
       "3              N      28.0    MADRID                   1.0  326124.9   \n",
       "4              N      28.0    MADRID                   1.0  326124.9   \n",
       "...          ...       ...       ...                   ...       ...   \n",
       "8937027        N      50.0  ZARAGOZA                   1.0  101850.0   \n",
       "8937020        N      50.0  ZARAGOZA                   1.0  101850.0   \n",
       "8937021        N      50.0  ZARAGOZA                   1.0  101850.0   \n",
       "8937022        N      50.0  ZARAGOZA                   1.0  101850.0   \n",
       "8937023        N      50.0  ZARAGOZA                   1.0  101850.0   \n",
       "\n",
       "             segmento target cb_score rank  \n",
       "0                 TOP      1        1    1  \n",
       "1                 TOP      1        1    2  \n",
       "2                 TOP      1        1    3  \n",
       "3                 TOP      1        1    4  \n",
       "4                 TOP      0        0    5  \n",
       "...               ...    ...      ...  ...  \n",
       "8937027  PARTICULARES      0        1    1  \n",
       "8937020  PARTICULARES      0        0    2  \n",
       "8937021  PARTICULARES      0        0    3  \n",
       "8937022  PARTICULARES      0        0    4  \n",
       "8937023  PARTICULARES      0        0    5  \n",
       "\n",
       "[3306850 rows x 28 columns]"
      ]
     },
     "execution_count": 11,
     "metadata": {},
     "output_type": "execute_result"
    }
   ],
   "source": [
    "recommendations"
   ]
  },
  {
   "cell_type": "code",
   "execution_count": 12,
   "metadata": {},
   "outputs": [
    {
     "name": "stdout",
     "output_type": "stream",
     "text": [
      "Precision: 0.9005432056036121\n",
      "Recall: 0.9881917080848547\n",
      "Coverage: 1.0\n",
      "Novelty: 0.6687687678606528\n"
     ]
    }
   ],
   "source": [
    "precision_final = precision_score(recommendations['target'], recommendations['cb_score'])\n",
    "recall_final = recall_score(recommendations['target'], recommendations['cb_score'])\n",
    "coverave_final = recommendations['item_name'].nunique() / 24\n",
    "novelty_final = (1-recommendations.query(\"rank <= 5\").groupby(\"ncodpers\")[\"target\"].mean()).mean()\n",
    "print(f'Precision: {precision_final}')\n",
    "print(f'Recall: {recall_final}')\n",
    "print(f'Coverage: {coverave_final}')\n",
    "print(f'Novelty: {novelty_final}')\n",
    "\n",
    "# добавлю метрики в словарь для логирования в MLflow\n",
    "metrics = {\n",
    "    'Precision' : precision_final,\n",
    "    'Recall' : recall_final,\n",
    "    'Coverage' : coverave_final,\n",
    "    'Novelty' : novelty_final\n",
    "}"
   ]
  },
  {
   "cell_type": "markdown",
   "metadata": {},
   "source": [
    "Судя по метрикам precision и recall модель выдала рекомендации, в соответствии с действиями пользователей в будущем.\n",
    "\n",
    "Покрытие 100%, а значит в рекомендации попали все продукты банка.\n",
    "\n",
    "Новизна тоже показывает хорошое значение. Пользователи получают рекомендации по продуктам, которые они раньше не приобретали."
   ]
  },
  {
   "cell_type": "code",
   "execution_count": 13,
   "metadata": {},
   "outputs": [
    {
     "name": "stderr",
     "output_type": "stream",
     "text": [
      "Successfully registered model 'cb_model'.\n",
      "2025/04/08 15:38:56 INFO mlflow.tracking._model_registry.client: Waiting up to 300 seconds for model version to finish creation. Model name: cb_model, version 1\n",
      "Created version '1' of model 'cb_model'.\n"
     ]
    }
   ],
   "source": [
    "# логирование catboost модели в MLflow\n",
    "os.environ[\"MLFLOW_S3_ENDPOINT_URL\"] = \"https://storage.yandexcloud.net\"\n",
    "os.environ[\"AWS_ACCESS_KEY_ID\"] = os.getenv(\"AWS_ACCESS_KEY_ID\") \n",
    "os.environ[\"AWS_SECRET_ACCESS_KEY\"] = os.getenv(\"AWS_SECRET_ACCESS_KEY\") \n",
    "\n",
    "\n",
    "TRACKING_SERVER_HOST = \"127.0.0.1\"\n",
    "TRACKING_SERVER_PORT = 5000\n",
    "\n",
    "EXPERIMENT_NAME = \"Bank_recommendations\"\n",
    "RUN_NAME = \"final_recommendations\"\n",
    "\n",
    "mlflow.set_tracking_uri(f\"http://{TRACKING_SERVER_HOST}:{TRACKING_SERVER_PORT}\")\n",
    "mlflow.set_registry_uri(f\"http://{TRACKING_SERVER_HOST}:{TRACKING_SERVER_PORT}\")\n",
    "\n",
    "experiment_id = mlflow.get_experiment_by_name(EXPERIMENT_NAME).experiment_id\n",
    "\n",
    "with mlflow.start_run(run_name=RUN_NAME, experiment_id=experiment_id) as run:\n",
    "    run_id = run.info.run_id\n",
    "\n",
    "    mlflow.log_metrics(metrics)\n",
    "\n",
    "    model_info = mlflow.catboost.log_model(cb_model=cb_model, artifact_path='models', registered_model_name='cb_model')"
   ]
  }
 ],
 "metadata": {
  "kernelspec": {
   "display_name": ".venv_final",
   "language": "python",
   "name": "python3"
  },
  "language_info": {
   "codemirror_mode": {
    "name": "ipython",
    "version": 3
   },
   "file_extension": ".py",
   "mimetype": "text/x-python",
   "name": "python",
   "nbconvert_exporter": "python",
   "pygments_lexer": "ipython3",
   "version": "3.10.12"
  }
 },
 "nbformat": 4,
 "nbformat_minor": 2
}
